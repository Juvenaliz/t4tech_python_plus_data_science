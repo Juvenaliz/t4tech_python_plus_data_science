{
 "cells": [
  {
   "cell_type": "markdown",
   "metadata": {
    "run_control": {
     "frozen": false,
     "read_only": false
    },
    "slideshow": {
     "slide_type": "-"
    }
   },
   "source": [
    "# Intro to Python: From 'Hello World' to Basic Scientific Computing"
   ]
  },
  {
   "cell_type": "markdown",
   "metadata": {
    "run_control": {
     "frozen": false,
     "read_only": false
    }
   },
   "source": [
    "## A few general notes:"
   ]
  },
  {
   "cell_type": "markdown",
   "metadata": {
    "run_control": {
     "frozen": false,
     "read_only": false
    }
   },
   "source": [
    "Coding is a skill just like playing an instrument, knitting, or wood-carving. It takes a lot of practice to become proficient, especially to the point where you're making things that are pretty. \n",
    "\n",
    "However, the key thing to remember is... all practice is good practice, and it's just software. \n",
    "\n",
    "You literally cannot harm your computer by writing bad python code. You might accidentally shut it down by generating an infinite loop... but 'oh well, try again after it reboots.' \n",
    "\n",
    "**Be tenacious, practice a lot, and make cool things.** "
   ]
  },
  {
   "cell_type": "markdown",
   "metadata": {},
   "source": [
    "## Python is neat"
   ]
  },
  {
   "cell_type": "markdown",
   "metadata": {},
   "source": [
    "Python is very popular; it's the second most [common language on github](https://octoverse.github.com/)\n",
    "\n",
    "<img src=\"https://www.dropbox.com/s/nyrgs7dbjx7s9lu/2018-08-24_10-43-08.png?dl=1\" width=500/>\n",
    "\n",
    "More than that, python was built to have a more friendly learning curve and has a ton of packages that allow it to be used for just about any project you can think of. Python is used by the [biggest tech companies](https://realpython.com/world-class-companies-using-python/) in the world. Here are some things I've built with python:\n",
    "\n",
    "- A program that learns to generate random faces.\n",
    "- A parachute that auto-pilots itself back to a fixed point.\n",
    "- Web apps that gather data from users on Amazon Turk.\n",
    "- A model that learns to win Atari games.\n",
    "- Scripts to automate photo processing.\n",
    "- A program that recognizes voice commands.\n",
    "- A personal website.\n"
   ]
  },
  {
   "cell_type": "markdown",
   "metadata": {},
   "source": [
    "## First thing's first, RTFM: Read the *Fun* Manual!\n",
    "\n",
    "Python has truly fantastic docs. I've worked in data science since 2011 and I still refer to these docs multiple times a week. Don't be afraid to use them! Find them [here](https://docs.python.org/3/). The Library Reference and Tutorial are probably the most helpful.\n",
    "\n",
    "Frequent reference to documentation is the sign of a mature, capable programmer.\n",
    "\n",
    "An attitude that \"I'm better than someone who needs to look things up.\" is a sign of someone with a lot to learn."
   ]
  },
  {
   "cell_type": "markdown",
   "metadata": {},
   "source": [
    "# Our Workflow\n",
    "\n",
    "It's rare that two people who write code use exactly the same programming languages, packages, text editors, and other tools.\n",
    "\n",
    "**There are many paths up the mountain.** \n",
    "\n",
    "Today, you'll learn one path that I've found to be generally accessible and powerful. As you learn, remember that this is not the only way to do these things. "
   ]
  },
  {
   "cell_type": "markdown",
   "metadata": {},
   "source": [
    "# Jupyter\n",
    "\n",
    "At the core of our workflow is Jupyter. Jupyter is a common interface to many of the tools you will use to develop useful, readable, reproducable code. Jupyter works in the browser, so it's a flexible tool that we can access from nearly any modern computer.\n",
    "\n",
    "### Starting Jupyter\n",
    "\n",
    "*Windows*:\n",
    "\n",
    "Find and open the program Anaconda Prompt, which we just installed. You will use this in place of the Terminal program in Mac/Linux instructions.\n",
    "\n",
    "*Mac/Linux*:\n",
    "\n",
    "On Mac and Linux, we will run things from the Terminal. This is a program that allows you to enter and execute text commands.\n",
    "\n",
    "Test out everything by typing `jupyter lab` into the Terminal and hitting enter.\n",
    "\n",
    "### File System\n",
    "\n",
    "<img src=\"https://www.dropbox.com/s/9ih6ocecb1gugbw/2018-08-25_15-37-27.png?dl=1\" width=350/>\n",
    "\n",
    "The first thing you see when you navigate to the jupyter server is the file view. Here, you can navigate the filesystem and even modify it."
   ]
  },
  {
   "cell_type": "markdown",
   "metadata": {},
   "source": [
    "# Three ways to run code\n",
    "\n",
    "\n",
    "## Interpreter\n",
    "\n",
    "Python is an \"interpreted\" language. This means that when your code is executed, each line is read by the computer and evaluated before the next line is read in. This is different from \"compiled\" languages where an entire program is read all at once and then compiled before it can be executed.\n",
    "\n",
    "Becaue python is interpreted, we have a lot of freedom to tinker around. We can run a line of code, see what happens, and if it doesn't do what we want, we can edit the line and run it again.\n",
    "\n",
    "To see this in action, we'll use jupyter to open a new terminal.\n",
    "\n",
    "<img src=\"https://www.dropbox.com/s/k5kcjn6eygtxm8w/Screenshot%202018-01-29%2017.16.48.png?dl=1\" width=250/>\n",
    "\n",
    "We can then run standard unix commands like `whoami`.\n",
    "<img src=\"https://www.dropbox.com/s/ssj1kg35tszp8ck/2018-08-25_15-45-28.png?dl=1\" width=250/>\n",
    "\n",
    "To start the python interpreter, type `python` and hit enter\n",
    "<img src=\"https://www.dropbox.com/s/ivilm7sbmtx69y6/2018-08-25_17-31-52.png?dl=1\" width=500/>"
   ]
  },
  {
   "cell_type": "markdown",
   "metadata": {},
   "source": [
    "**we code**\n",
    "\n",
    "Okay, now we're going to write our first program!\n",
    "\n",
    "In the interpreter, type `print(\"Hey, there, world!\")` and then hit enter.\n",
    "\n",
    "What happens?\n",
    "\n",
    "**you code**\n",
    "\n",
    "Now, change that line to say something else and re-run it."
   ]
  },
  {
   "cell_type": "markdown",
   "metadata": {},
   "source": [
    "Okay, last thing is that you can leave the interpreter by typing `quit()` and then hitting enter. "
   ]
  },
  {
   "cell_type": "markdown",
   "metadata": {},
   "source": [
    "## Script\n",
    "\n",
    "The interpreter is great for testing things out but after you run things they just... dissapear. For the times when you want to preserve code to be re-run again, you can save it in a script. \n",
    "\n",
    "\n",
    "Let's use jupyter to open a new text file. You can create new files through the same menu you used to create a terminal. \n",
    "<img src=\"https://www.dropbox.com/s/3da4ggx64g47pft/Screenshot%202018-01-29%2017.23.47.png?dl=1\" width=250/>\n",
    "\n",
    "Name the file something like `script.py`. \n",
    "\n",
    "Now put the following code into the file:\n",
    "\n",
    "```python\n",
    "hello_message = \"Hello, world!\"\n",
    "\n",
    "full_message = hello_message + \" Great to meet you!\"\n",
    "\n",
    "print(full_message)\n",
    "\n",
    "```\n",
    "\n",
    "\n",
    "Now we can run the file by going back to our terminal and entering `python script.py`."
   ]
  },
  {
   "cell_type": "markdown",
   "metadata": {},
   "source": [
    "Did that not work?\n",
    "\n",
    "- Make sure you're not still in the python interpreter. If your prompt still looks like `>>>` then you need to exit the interpreter with `quit()`.\n",
    "- Make sure your file is in the same folder as your terminal. Some handy terminal commands:\n",
    "    - `ls` lists all the files and folders where you're at.\n",
    "    - `pwd` prints the path to where you're at now.\n",
    "    - `cd` is used to change directories."
   ]
  },
  {
   "cell_type": "markdown",
   "metadata": {
    "run_control": {
     "frozen": false,
     "read_only": false
    }
   },
   "source": [
    "## What is an iPython Notebook/Jupyter Notebook?\n",
    "\n",
    "What we're using today is an iPython notebook. It allows us to work in an interactive bunch of cells where we can write **real** Python code and then execute it on the fly. Memory persists across cells - meaning I can write a function in one cell and use it in another. We'll talk more about that later. The main controls to remember is that you can hit `shift+enter` to run a cell once you type in your code. \n",
    "\n",
    "You can also switch cells to 'Markdown' mode which allows you to write notes/text like I'm using here. You can also include images and stuff. You can learn more about 'Markdown' here: https://blog.ghost.org/markdown/\n",
    "\n",
    "### Hello World Pt 2\n",
    "\n",
    "Now, let's run our Hello World example the easy way: in the jupyter notebook"
   ]
  },
  {
   "cell_type": "code",
   "execution_count": 1,
   "metadata": {
    "ExecuteTime": {
     "end_time": "2018-08-26T00:28:25.555508Z",
     "start_time": "2018-08-26T00:28:25.519205Z"
    }
   },
   "outputs": [
    {
     "name": "stdout",
     "output_type": "stream",
     "text": [
      "Hello World\n"
     ]
    }
   ],
   "source": [
    "print('Hello World')"
   ]
  },
  {
   "cell_type": "code",
   "execution_count": 2,
   "metadata": {
    "ExecuteTime": {
     "end_time": "2018-08-26T00:28:29.461957Z",
     "start_time": "2018-08-26T00:28:29.457944Z"
    }
   },
   "outputs": [
    {
     "name": "stdout",
     "output_type": "stream",
     "text": [
      "hello world\n"
     ]
    }
   ],
   "source": [
    "print(\"hello world\")"
   ]
  },
  {
   "cell_type": "markdown",
   "metadata": {},
   "source": [
    "Other handy things you can do in notebooks: \n",
    "\n",
    "- Tab completion: type most of a variable and then hit tab. Never have another typo!\n",
    "- Built-in documentation: use shift-tab when you're inside a function to see the documentation for that function.\n",
    "\n",
    "Try them!"
   ]
  },
  {
   "cell_type": "code",
   "execution_count": null,
   "metadata": {},
   "outputs": [],
   "source": []
  },
  {
   "cell_type": "markdown",
   "metadata": {},
   "source": [
    "Let's check which python version we have.\n",
    "\n",
    "You can run short command line statements in jupyter by using the `!` magic (see below)"
   ]
  },
  {
   "cell_type": "code",
   "execution_count": 1,
   "metadata": {
    "ExecuteTime": {
     "end_time": "2018-08-26T13:51:02.087639Z",
     "start_time": "2018-08-26T13:51:01.952648Z"
    }
   },
   "outputs": [
    {
     "name": "stdout",
     "output_type": "stream",
     "text": [
      "Python 3.6.5 :: Anaconda, Inc.\r\n"
     ]
    }
   ],
   "source": [
    "# can access command line from Jupyter\n",
    "!python -V"
   ]
  },
  {
   "cell_type": "markdown",
   "metadata": {},
   "source": [
    "We'll learn more about jupyter as we go."
   ]
  },
  {
   "cell_type": "markdown",
   "metadata": {
    "ExecuteTime": {
     "end_time": "2018-08-26T13:51:39.103319Z",
     "start_time": "2018-08-26T13:51:39.094920Z"
    }
   },
   "source": [
    "---"
   ]
  },
  {
   "cell_type": "markdown",
   "metadata": {},
   "source": [
    "**Important**: this is the part of the lesson where you will want to use the class notebooks. \n",
    "\n",
    "- Go to [`soph.info/py`](soph.info/py) for a link to the repo. \n",
    "- Download that repo using the \"Clone or Download\" button.\n",
    "- Find the folder you downloaded in Jupyter and open the first notebook."
   ]
  },
  {
   "cell_type": "markdown",
   "metadata": {
    "ExecuteTime": {
     "end_time": "2018-08-26T13:51:56.497674Z",
     "start_time": "2018-08-26T13:51:56.491226Z"
    }
   },
   "source": [
    "---"
   ]
  },
  {
   "cell_type": "code",
   "execution_count": null,
   "metadata": {},
   "outputs": [],
   "source": []
  }
 ],
 "metadata": {
  "kernelspec": {
   "display_name": "Python 3",
   "language": "python",
   "name": "python3"
  },
  "language_info": {
   "codemirror_mode": {
    "name": "ipython",
    "version": 3
   },
   "file_extension": ".py",
   "mimetype": "text/x-python",
   "name": "python",
   "nbconvert_exporter": "python",
   "pygments_lexer": "ipython3",
   "version": "3.6.5"
  },
  "toc": {
   "nav_menu": {},
   "number_sections": true,
   "sideBar": true,
   "skip_h1_title": false,
   "toc_cell": false,
   "toc_position": {},
   "toc_section_display": "block",
   "toc_window_display": false
  },
  "varInspector": {
   "cols": {
    "lenName": 16,
    "lenType": 16,
    "lenVar": 40
   },
   "kernels_config": {
    "python": {
     "delete_cmd_postfix": "",
     "delete_cmd_prefix": "del ",
     "library": "var_list.py",
     "varRefreshCmd": "print(var_dic_list())"
    },
    "r": {
     "delete_cmd_postfix": ") ",
     "delete_cmd_prefix": "rm(",
     "library": "var_list.r",
     "varRefreshCmd": "cat(var_dic_list()) "
    }
   },
   "types_to_exclude": [
    "module",
    "function",
    "builtin_function_or_method",
    "instance",
    "_Feature"
   ],
   "window_display": false
  }
 },
 "nbformat": 4,
 "nbformat_minor": 2
}
