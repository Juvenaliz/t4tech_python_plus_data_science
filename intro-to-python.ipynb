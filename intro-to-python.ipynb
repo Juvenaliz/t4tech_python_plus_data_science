{
 "cells": [
  {
   "cell_type": "markdown",
   "metadata": {
    "run_control": {
     "frozen": false,
     "read_only": false
    },
    "slideshow": {
     "slide_type": "-"
    }
   },
   "source": [
    "# Intro to Python: From 'Hello World' to Basic Scientific Computing"
   ]
  },
  {
   "cell_type": "markdown",
   "metadata": {
    "run_control": {
     "frozen": false,
     "read_only": false
    }
   },
   "source": [
    "## A few general notes:"
   ]
  },
  {
   "cell_type": "markdown",
   "metadata": {
    "run_control": {
     "frozen": false,
     "read_only": false
    }
   },
   "source": [
    "Coding is a skill just like playing an instrument, knitting, or wood-carving. It takes a lot of practice to become proficient, especially to the point where you're making things that are pretty. \n",
    "\n",
    "However, the key thing to remember is... all practice is good practice, and it's just software. \n",
    "\n",
    "You literally cannot harm your computer by writing bad python code. You might accidentally shut it down by generating an infinite loop... but 'oh well, try again after it reboots.' \n",
    "\n",
    "**Be tenacious, practice a lot, and make cool things.** "
   ]
  },
  {
   "cell_type": "markdown",
   "metadata": {},
   "source": [
    "## Python is neat"
   ]
  },
  {
   "cell_type": "markdown",
   "metadata": {},
   "source": [
    "Python is very popular; it's the second most [common language on github](https://octoverse.github.com/)\n",
    "\n",
    "<img src=\"https://www.dropbox.com/s/nyrgs7dbjx7s9lu/2018-08-24_10-43-08.png?dl=1\" width=500/>\n",
    "\n",
    "More than that, python was built to have a more friendly learning curve and has a ton of packages that allow it to be used for just about any project you can think of. Python is used by the [biggest tech companies](https://realpython.com/world-class-companies-using-python/) in the world. Here are some things I've built with python:\n",
    "\n",
    "- A program that learns to generate random faces.\n",
    "- A parachute that auto-pilots itself back to a fixed point.\n",
    "- Web apps that gather data from users on Amazon Turk.\n",
    "- A model that learns to win Atari games.\n",
    "- Scripts to automate photo processing.\n",
    "- A program that recognizes voice commands.\n",
    "- A personal website.\n"
   ]
  },
  {
   "cell_type": "markdown",
   "metadata": {},
   "source": [
    "## First thing's first, RTFM: Read the *Fun* Manual!\n",
    "\n",
    "Python has truly fantastic docs. I've worked in data science since 2011 and I still refer to these docs multiple times a week. Don't be afraid to use them! Find them [here](https://docs.python.org/3/). The Library Reference and Tutorial are probably the most helpful.\n",
    "\n",
    "Frequent reference to documentation is the sign of a mature, capable programmer.\n",
    "\n",
    "An attitude that \"I'm better than someone who needs to look things up.\" is a sign of someone with a lot to learn."
   ]
  },
  {
   "cell_type": "markdown",
   "metadata": {},
   "source": [
    "# Our Workflow\n",
    "\n",
    "It's rare that two people who write code use exactly the same programming languages, packages, text editors, and other tools.\n",
    "\n",
    "**There are many paths up the mountain.** \n",
    "\n",
    "Today, you'll learn one path that I've found to be generally accessible and powerful. As you learn, remember that this is not the only way to do these things. "
   ]
  },
  {
   "cell_type": "markdown",
   "metadata": {},
   "source": [
    "# Jupyter\n",
    "\n",
    "At the core of our workflow is Jupyter. Jupyter is a common interface to many of the tools you will use to develop useful, readable, reproducable code. Jupyter works in the browser, so it's a flexible tool that we can access from nearly any modern computer.\n",
    "\n",
    "### Starting Jupyter\n",
    "\n",
    "*Windows*:\n",
    "\n",
    "Find and open the program Anaconda Prompt, which we just installed. You will use this in place of the Terminal program in Mac/Linux instructions.\n",
    "\n",
    "*Mac/Linux*:\n",
    "\n",
    "On Mac and Linux, we will run things from the Terminal. This is a program that allows you to enter and execute text commands.\n",
    "\n",
    "Test out everything by typing `jupyter lab` into the Terminal and hitting enter.\n",
    "\n",
    "### File System\n",
    "\n",
    "<img src=\"https://www.dropbox.com/s/9ih6ocecb1gugbw/2018-08-25_15-37-27.png?dl=1\" width=350/>\n",
    "\n",
    "The first thing you see when you navigate to the jupyter server is the file view. Here, you can navigate the filesystem and even modify it."
   ]
  },
  {
   "cell_type": "markdown",
   "metadata": {},
   "source": [
    "# Three ways to run code\n",
    "\n",
    "\n",
    "## Interpreter\n",
    "\n",
    "Python is an \"interpreted\" language. This means that when your code is executed, each line is read by the computer and evaluated before the next line is read in. This is different from \"compiled\" languages where an entire program is read all at once and then compiled before it can be executed.\n",
    "\n",
    "Becaue python is interpreted, we have a lot of freedom to tinker around. We can run a line of code, see what happens, and if it doesn't do what we want, we can edit the line and run it again.\n",
    "\n",
    "To see this in action, we'll use jupyter to open a new terminal.\n",
    "\n",
    "<img src=\"https://www.dropbox.com/s/k5kcjn6eygtxm8w/Screenshot%202018-01-29%2017.16.48.png?dl=1\" width=250/>\n",
    "\n",
    "We can then run standard unix commands like `whoami`.\n",
    "<img src=\"https://www.dropbox.com/s/ssj1kg35tszp8ck/2018-08-25_15-45-28.png?dl=1\" width=250/>\n",
    "\n",
    "To start the python interpreter, type `python` and hit enter\n",
    "<img src=\"https://www.dropbox.com/s/ivilm7sbmtx69y6/2018-08-25_17-31-52.png?dl=1\" width=500/>"
   ]
  },
  {
   "cell_type": "markdown",
   "metadata": {},
   "source": [
    "**we code**\n",
    "\n",
    "Okay, now we're going to write our first program!\n",
    "\n",
    "In the interpreter, type `print(\"Hey, there, world!\")` and then hit enter.\n",
    "\n",
    "What happens?\n",
    "\n",
    "**you code**\n",
    "\n",
    "Now, change that line to say something else and re-run it."
   ]
  },
  {
   "cell_type": "markdown",
   "metadata": {},
   "source": [
    "Okay, last thing is that you can leave the interpreter by typing `quit()` and then hitting enter. "
   ]
  },
  {
   "cell_type": "markdown",
   "metadata": {},
   "source": [
    "## Script\n",
    "\n",
    "The interpreter is great for testing things out but after you run things they just... dissapear. For the times when you want to preserve code to be re-run again, you can save it in a script. \n",
    "\n",
    "\n",
    "Let's use jupyter to open a new text file. You can create new files through the same menu you used to create a terminal. \n",
    "<img src=\"https://www.dropbox.com/s/3da4ggx64g47pft/Screenshot%202018-01-29%2017.23.47.png?dl=1\" width=250/>\n",
    "\n",
    "Name the file something like `script.py`. \n",
    "\n",
    "Now put the following code into the file:\n",
    "\n",
    "```python\n",
    "hello_message = \"Hello, world!\"\n",
    "\n",
    "full_message = hello_message + \" Great to meet you!\"\n",
    "\n",
    "print(full_message)\n",
    "\n",
    "```\n",
    "\n",
    "\n",
    "Now we can run the file by going back to our terminal and entering `python script.py`."
   ]
  },
  {
   "cell_type": "markdown",
   "metadata": {},
   "source": [
    "Did that not work?\n",
    "\n",
    "- Make sure you're not still in the python interpreter. If your prompt still looks like `>>>` then you need to exit the interpreter with `quit()`.\n",
    "- Make sure your file is in the same folder as your terminal. Some handy terminal commands:\n",
    "    - `ls` lists all the files and folders where you're at.\n",
    "    - `pwd` prints the path to where you're at now.\n",
    "    - `cd` is used to change directories."
   ]
  },
  {
   "cell_type": "markdown",
   "metadata": {
    "run_control": {
     "frozen": false,
     "read_only": false
    }
   },
   "source": [
    "## What is an iPython Notebook/Jupyter Notebook?\n",
    "\n",
    "What we're using today is an iPython notebook. It allows us to work in an interactive bunch of cells where we can write **real** Python code and then execute it on the fly. Memory persists across cells - meaning I can write a function in one cell and use it in another. We'll talk more about that later. The main controls to remember is that you can hit `shift+enter` to run a cell once you type in your code. \n",
    "\n",
    "You can also switch cells to 'Markdown' mode which allows you to write notes/text like I'm using here. You can also include images and stuff. You can learn more about 'Markdown' here: https://blog.ghost.org/markdown/\n",
    "\n",
    "### Hello World Pt 2\n",
    "\n",
    "Now, let's run our Hello World example the easy way: in the jupyter notebook"
   ]
  },
  {
   "cell_type": "code",
   "execution_count": 1,
   "metadata": {
    "ExecuteTime": {
     "end_time": "2018-08-26T00:28:25.555508Z",
     "start_time": "2018-08-26T00:28:25.519205Z"
    }
   },
   "outputs": [
    {
     "name": "stdout",
     "output_type": "stream",
     "text": [
      "Hello World\n"
     ]
    }
   ],
   "source": [
    "print('Hello World')"
   ]
  },
  {
   "cell_type": "code",
   "execution_count": 2,
   "metadata": {
    "ExecuteTime": {
     "end_time": "2018-08-26T00:28:29.461957Z",
     "start_time": "2018-08-26T00:28:29.457944Z"
    }
   },
   "outputs": [
    {
     "name": "stdout",
     "output_type": "stream",
     "text": [
      "hello world\n"
     ]
    }
   ],
   "source": [
    "print(\"hello world\")"
   ]
  },
  {
   "cell_type": "markdown",
   "metadata": {},
   "source": [
    "Other handy things you can do in notebooks: \n",
    "\n",
    "- Tab completion: type most of a variable and then hit tab. Never have another typo!\n",
    "- Built-in documentation: use shift-tab when you're inside a function to see the documentation for that function.\n",
    "\n",
    "Try them!"
   ]
  },
  {
   "cell_type": "code",
   "execution_count": null,
   "metadata": {},
   "outputs": [],
   "source": []
  },
  {
   "cell_type": "markdown",
   "metadata": {},
   "source": [
    "Let's check which python version we have.\n",
    "\n",
    "You can run short command line statements in jupyter by using the `!` magic (see below)"
   ]
  },
  {
   "cell_type": "code",
   "execution_count": 1,
   "metadata": {
    "ExecuteTime": {
     "end_time": "2018-08-26T13:51:02.087639Z",
     "start_time": "2018-08-26T13:51:01.952648Z"
    }
   },
   "outputs": [
    {
     "name": "stdout",
     "output_type": "stream",
     "text": [
      "Python 3.6.5 :: Anaconda, Inc.\r\n"
     ]
    }
   ],
   "source": [
    "# can access command line from Jupyter\n",
    "!python -V"
   ]
  },
  {
   "cell_type": "markdown",
   "metadata": {},
   "source": [
    "We'll learn more about jupyter as we go."
   ]
  },
  {
   "cell_type": "markdown",
   "metadata": {
    "ExecuteTime": {
     "end_time": "2018-08-26T13:51:39.103319Z",
     "start_time": "2018-08-26T13:51:39.094920Z"
    }
   },
   "source": [
    "---"
   ]
  },
  {
   "cell_type": "markdown",
   "metadata": {},
   "source": [
    "**Important**: this is the part of the lesson where you will want to use the class notebooks. \n",
    "\n",
    "- Go to [`soph.info/py`](soph.info/py) for a link to the repo. \n",
    "- Download that repo using the \"Clone or Download\" button.\n",
    "- Find the folder you downloaded in Jupyter and open the first notebook."
   ]
  },
  {
   "cell_type": "markdown",
   "metadata": {
    "ExecuteTime": {
     "end_time": "2018-08-26T13:51:56.497674Z",
     "start_time": "2018-08-26T13:51:56.491226Z"
    }
   },
   "source": [
    "---"
   ]
  },
  {
   "cell_type": "markdown",
   "metadata": {},
   "source": [
    "### Single vs double quotes"
   ]
  },
  {
   "cell_type": "code",
   "execution_count": 3,
   "metadata": {
    "ExecuteTime": {
     "end_time": "2018-08-26T00:29:06.141212Z",
     "start_time": "2018-08-26T00:29:06.131238Z"
    }
   },
   "outputs": [
    {
     "name": "stdout",
     "output_type": "stream",
     "text": [
      "that's fun\n"
     ]
    }
   ],
   "source": [
    "# include apostrophe\n",
    "print(\"that's fun\")  "
   ]
  },
  {
   "cell_type": "code",
   "execution_count": 4,
   "metadata": {
    "ExecuteTime": {
     "end_time": "2018-08-26T00:29:07.641945Z",
     "start_time": "2018-08-26T00:29:07.634667Z"
    }
   },
   "outputs": [
    {
     "name": "stdout",
     "output_type": "stream",
     "text": [
      "he said \"good job\".\n"
     ]
    }
   ],
   "source": [
    "# include quote\n",
    "print('he said \"good job\".')"
   ]
  },
  {
   "cell_type": "code",
   "execution_count": null,
   "metadata": {
    "ExecuteTime": {
     "end_time": "2018-02-03T03:23:52.382084Z",
     "start_time": "2018-02-03T03:23:52.375549Z"
    }
   },
   "outputs": [],
   "source": [
    "# include both single and double quotes\n",
    "print('''he said \"that's a good job\".''')"
   ]
  },
  {
   "cell_type": "code",
   "execution_count": null,
   "metadata": {
    "ExecuteTime": {
     "end_time": "2018-02-03T03:30:41.098348Z",
     "start_time": "2018-02-03T03:30:41.090229Z"
    },
    "run_control": {
     "frozen": false,
     "read_only": false
    }
   },
   "outputs": [],
   "source": [
    "# Here we're creating a variable with a string in it!\n",
    "word_to_print = \"Hello World\" \n",
    "print(word_to_print)"
   ]
  },
  {
   "cell_type": "markdown",
   "metadata": {},
   "source": [
    "## Types"
   ]
  },
  {
   "cell_type": "markdown",
   "metadata": {
    "run_control": {
     "frozen": false,
     "read_only": false
    }
   },
   "source": [
    "Now we've introduced the idea of variables. In Python, we don't have to tell the code in advance what our variable *type* will be. A type helps tell Python what our variable is storing for us. So for instance, let's look at the type for **word_to_print** and the type of a number. "
   ]
  },
  {
   "cell_type": "code",
   "execution_count": null,
   "metadata": {
    "ExecuteTime": {
     "end_time": "2018-02-03T03:30:43.121674Z",
     "start_time": "2018-02-03T03:30:43.116934Z"
    }
   },
   "outputs": [],
   "source": [
    "print(type(word_to_print))"
   ]
  },
  {
   "cell_type": "code",
   "execution_count": null,
   "metadata": {
    "ExecuteTime": {
     "end_time": "2018-02-03T03:30:44.872362Z",
     "start_time": "2018-02-03T03:30:44.865420Z"
    }
   },
   "outputs": [],
   "source": [
    "print(type(1))"
   ]
  },
  {
   "cell_type": "code",
   "execution_count": null,
   "metadata": {
    "ExecuteTime": {
     "end_time": "2018-02-03T03:30:46.484016Z",
     "start_time": "2018-02-03T03:30:46.478093Z"
    }
   },
   "outputs": [],
   "source": [
    "print(type(\"bob\"))"
   ]
  },
  {
   "cell_type": "code",
   "execution_count": null,
   "metadata": {
    "ExecuteTime": {
     "end_time": "2018-02-03T03:30:47.571898Z",
     "start_time": "2018-02-03T03:30:47.567092Z"
    },
    "run_control": {
     "frozen": false,
     "read_only": false
    }
   },
   "outputs": [],
   "source": [
    "print(type(2.5))"
   ]
  },
  {
   "cell_type": "markdown",
   "metadata": {
    "run_control": {
     "frozen": false,
     "read_only": false
    }
   },
   "source": [
    "Our print statement can also handle multiple things at once, let's use that to talk about types some more."
   ]
  },
  {
   "cell_type": "code",
   "execution_count": null,
   "metadata": {
    "ExecuteTime": {
     "end_time": "2018-02-03T03:30:54.325868Z",
     "start_time": "2018-02-03T03:30:54.320037Z"
    },
    "run_control": {
     "frozen": false,
     "read_only": false
    }
   },
   "outputs": [],
   "source": [
    "print(\"This is a float:\", type(2.5))"
   ]
  },
  {
   "cell_type": "markdown",
   "metadata": {},
   "source": [
    "## Lists"
   ]
  },
  {
   "cell_type": "markdown",
   "metadata": {
    "run_control": {
     "frozen": false,
     "read_only": false
    }
   },
   "source": [
    "What if we have multiple things we want to store all at once? Python can handle that with an object called a `list.` Lists are really excellent because:\n",
    "\n",
    "1. They can hold correlated things.\n",
    "2. They're editable... meaning we can add and subtract things as necessary.\n",
    "3. They allow for indexing (don't worry, we'll explain this in a minute)\n",
    "4. They can work with `for` loops (this one too)\n",
    "\n",
    "Let's start by looking at how lists work. They have square-brackets as their identifier."
   ]
  },
  {
   "cell_type": "code",
   "execution_count": null,
   "metadata": {
    "ExecuteTime": {
     "end_time": "2018-02-03T03:30:56.209442Z",
     "start_time": "2018-02-03T03:30:56.186067Z"
    },
    "run_control": {
     "frozen": false,
     "read_only": false
    }
   },
   "outputs": [],
   "source": [
    "our_list = [\"steve\",\"bob\",\"emily\"]\n",
    "our_list"
   ]
  },
  {
   "cell_type": "code",
   "execution_count": null,
   "metadata": {
    "ExecuteTime": {
     "end_time": "2018-02-03T03:30:57.208438Z",
     "start_time": "2018-02-03T03:30:57.198015Z"
    }
   },
   "outputs": [],
   "source": [
    "type(our_list)"
   ]
  },
  {
   "cell_type": "code",
   "execution_count": null,
   "metadata": {
    "ExecuteTime": {
     "end_time": "2018-02-03T03:30:58.302525Z",
     "start_time": "2018-02-03T03:30:58.283409Z"
    }
   },
   "outputs": [],
   "source": [
    "our_list.append(\"DOUG WAS HERE\")\n",
    "our_list"
   ]
  },
  {
   "cell_type": "code",
   "execution_count": null,
   "metadata": {
    "ExecuteTime": {
     "end_time": "2018-02-03T03:30:59.317681Z",
     "start_time": "2018-02-03T03:30:59.303944Z"
    }
   },
   "outputs": [],
   "source": [
    "# pop from right side (default)\n",
    "our_list.pop()\n",
    "our_list"
   ]
  },
  {
   "cell_type": "code",
   "execution_count": null,
   "metadata": {
    "ExecuteTime": {
     "end_time": "2018-02-03T03:31:00.131216Z",
     "start_time": "2018-02-03T03:31:00.111277Z"
    }
   },
   "outputs": [],
   "source": [
    "# pop from beginning via index\n",
    "our_list.pop(0)\n",
    "our_list"
   ]
  },
  {
   "cell_type": "markdown",
   "metadata": {
    "run_control": {
     "frozen": false,
     "read_only": false
    }
   },
   "source": [
    "**Exercise 1:** Let's do 'hello world' but with lists. (solutions to all exercises at the bottom)\n",
    "\n",
    "> Create a variable called `hello_world_list` that has two elements: \n",
    "> the strings 'hello' and 'world'. Then print out that variable."
   ]
  },
  {
   "cell_type": "code",
   "execution_count": null,
   "metadata": {},
   "outputs": [],
   "source": []
  },
  {
   "cell_type": "markdown",
   "metadata": {
    "run_control": {
     "frozen": false,
     "read_only": false
    }
   },
   "source": [
    "# More about Python's data structures"
   ]
  },
  {
   "cell_type": "markdown",
   "metadata": {},
   "source": [
    "## Indexing"
   ]
  },
  {
   "cell_type": "markdown",
   "metadata": {
    "run_control": {
     "frozen": false,
     "read_only": false
    }
   },
   "source": [
    "Now let's talk about indexing. Lists in Python know two things about each element: \n",
    "\n",
    "1. The element is value X (for instance the first element in our hello_world_list below has a value of 'hello')\n",
    "2. The element is at position #x\n",
    "\n",
    "For instance, the 0th position of hello_world_list has the word 'hello'. Let's take a look at this."
   ]
  },
  {
   "cell_type": "code",
   "execution_count": null,
   "metadata": {
    "ExecuteTime": {
     "end_time": "2018-02-03T03:33:09.672120Z",
     "start_time": "2018-02-03T03:33:09.664713Z"
    },
    "run_control": {
     "frozen": false,
     "read_only": false
    }
   },
   "outputs": [],
   "source": [
    "hello_world_list = ['hello','world']\n",
    "hello_world_list[0]"
   ]
  },
  {
   "cell_type": "code",
   "execution_count": null,
   "metadata": {
    "ExecuteTime": {
     "end_time": "2018-02-03T03:33:10.723326Z",
     "start_time": "2018-02-03T03:33:10.717061Z"
    }
   },
   "outputs": [],
   "source": [
    "hello_world_list[1]"
   ]
  },
  {
   "cell_type": "code",
   "execution_count": null,
   "metadata": {
    "ExecuteTime": {
     "end_time": "2018-02-03T03:33:11.736341Z",
     "start_time": "2018-02-03T03:33:11.730312Z"
    }
   },
   "outputs": [],
   "source": [
    "print(hello_world_list[0], hello_world_list[1])"
   ]
  },
  {
   "cell_type": "markdown",
   "metadata": {
    "run_control": {
     "frozen": false,
     "read_only": false
    }
   },
   "source": [
    "The square brackets directly after the list tell Python, \"Hey, I only want you to get the element at that position number in the list.\" Also, let's note something special: **the numbers start at 0!** All Python lists (and sets and tuples for that matter) start at position 0. This is sometimes called \"zero indexing.\"\n",
    "\n",
    "So, can lists just hold strings? Nope. Let's check out some other lists."
   ]
  },
  {
   "cell_type": "code",
   "execution_count": null,
   "metadata": {
    "ExecuteTime": {
     "end_time": "2018-02-03T03:33:13.343825Z",
     "start_time": "2018-02-03T03:33:13.337853Z"
    },
    "run_control": {
     "frozen": false,
     "read_only": false
    }
   },
   "outputs": [],
   "source": [
    "list_of_ints = [1,2,3]\n",
    "print(\"This is a list of integers: \", list_of_ints)"
   ]
  },
  {
   "cell_type": "code",
   "execution_count": null,
   "metadata": {
    "ExecuteTime": {
     "end_time": "2018-02-03T03:33:14.279272Z",
     "start_time": "2018-02-03T03:33:14.271529Z"
    }
   },
   "outputs": [],
   "source": [
    "list_of_floats = [0.5, 0.2, 3.0]\n",
    "print(\"This is a list of floats: \", list_of_floats)"
   ]
  },
  {
   "cell_type": "code",
   "execution_count": null,
   "metadata": {
    "ExecuteTime": {
     "end_time": "2018-02-03T03:33:15.343067Z",
     "start_time": "2018-02-03T03:33:15.332149Z"
    }
   },
   "outputs": [],
   "source": [
    "mixed_list = ['bob', 1, 0.75]\n",
    "print(\"This is a mixed list: \", mixed_list)"
   ]
  },
  {
   "cell_type": "code",
   "execution_count": null,
   "metadata": {
    "ExecuteTime": {
     "end_time": "2018-02-03T03:33:16.027108Z",
     "start_time": "2018-02-03T03:33:16.020910Z"
    }
   },
   "outputs": [],
   "source": [
    "# look ahead #1: rewrite of cell above using for loop\n",
    "for i in range(3):\n",
    "    print(type(mixed_list[i]))"
   ]
  },
  {
   "cell_type": "code",
   "execution_count": null,
   "metadata": {
    "ExecuteTime": {
     "end_time": "2018-02-03T03:33:16.930664Z",
     "start_time": "2018-02-03T03:33:16.923567Z"
    }
   },
   "outputs": [],
   "source": [
    "# look ahead #2 - rewrite using list comprehension\n",
    "[type(mixed_list[i]) for i in range(3)]"
   ]
  },
  {
   "cell_type": "markdown",
   "metadata": {
    "run_control": {
     "frozen": false,
     "read_only": false
    }
   },
   "source": [
    "**Exercise 2:**\n",
    "> Okay, so let's create a list with the values 1, 2, 3, 4, and 5 in it. Then let's use indexing to calculate the sum."
   ]
  },
  {
   "cell_type": "code",
   "execution_count": null,
   "metadata": {},
   "outputs": [],
   "source": [
    "  "
   ]
  },
  {
   "cell_type": "code",
   "execution_count": null,
   "metadata": {
    "ExecuteTime": {
     "end_time": "2018-02-03T03:43:15.149066Z",
     "start_time": "2018-02-03T03:43:15.141702Z"
    }
   },
   "outputs": [],
   "source": [
    "# alternative method & look ahead\n",
    "sum(range(1,6,1))"
   ]
  },
  {
   "cell_type": "markdown",
   "metadata": {
    "run_control": {
     "frozen": false,
     "read_only": false
    }
   },
   "source": [
    "Alright! We can do some manipulations of our data with indexing. But, there's gotta be a better way of using all the elements in a list than manually typing each index in, right? There is, they're called `for` loops. Let's take a look at an example:"
   ]
  },
  {
   "cell_type": "code",
   "execution_count": null,
   "metadata": {
    "ExecuteTime": {
     "end_time": "2018-02-03T03:43:18.411286Z",
     "start_time": "2018-02-03T03:43:18.400815Z"
    },
    "run_control": {
     "frozen": false,
     "read_only": false
    }
   },
   "outputs": [],
   "source": [
    "values = [1,2,3,4,5]\n",
    "for val in values:\n",
    "    print(val)"
   ]
  },
  {
   "cell_type": "markdown",
   "metadata": {
    "run_control": {
     "frozen": false,
     "read_only": false
    }
   },
   "source": [
    "We told python, \"I want you to grab each element in the `values` list and then do something with it one at a time.\" There's nothing special about it being numbers, we could do that with a list of strings as well. All that Python knows is, \"This user said 'get everything in this list and give it back to me one at a time' and I'm going to do that now.\"\n",
    "\n",
    "We've also just seen our first Python indent! Did you notice that the `print()` statement is one tab in from the left side? That's how Python knows what belongs to the `for` loop and what doesn't. For instance, what if we added another print statement just below the `for` loop, but without the `tab`? Let's take a look."
   ]
  },
  {
   "cell_type": "code",
   "execution_count": null,
   "metadata": {
    "ExecuteTime": {
     "end_time": "2018-02-03T03:44:02.867044Z",
     "start_time": "2018-02-03T03:44:02.858996Z"
    },
    "run_control": {
     "frozen": false,
     "read_only": false
    }
   },
   "outputs": [],
   "source": [
    "values = [1,2,3,4,5]\n",
    "for element in values:\n",
    "    print(element)\n",
    "print('alice')\n",
    "print('bob')"
   ]
  },
  {
   "cell_type": "markdown",
   "metadata": {
    "run_control": {
     "frozen": false,
     "read_only": false
    }
   },
   "source": [
    "So that's a big key to how Python structures it's code. Things that are inside another structure (like a `for` loop) are indented. All the indented parts for a single structure have to go together! You can't do this (which is why we get an error):"
   ]
  },
  {
   "cell_type": "code",
   "execution_count": null,
   "metadata": {
    "ExecuteTime": {
     "end_time": "2018-02-03T03:44:31.032621Z",
     "start_time": "2018-02-03T03:44:31.020459Z"
    },
    "run_control": {
     "frozen": false,
     "read_only": false
    }
   },
   "outputs": [],
   "source": [
    "# this breaks bc we exit the loop prematurely\n",
    "x = 0\n",
    "for i in [1,2,3,4]:\n",
    "    print(i)\n",
    "print(x)\n",
    "    x = i\n",
    "print(x)"
   ]
  },
  {
   "cell_type": "markdown",
   "metadata": {
    "run_control": {
     "frozen": false,
     "read_only": false
    }
   },
   "source": [
    "But you can do this:"
   ]
  },
  {
   "cell_type": "code",
   "execution_count": null,
   "metadata": {
    "ExecuteTime": {
     "end_time": "2018-02-03T03:44:34.578619Z",
     "start_time": "2018-02-03T03:44:34.569664Z"
    },
    "run_control": {
     "frozen": false,
     "read_only": false
    }
   },
   "outputs": [],
   "source": [
    "x = 0\n",
    "for i in [1,2,3,4]:\n",
    "    print(i)\n",
    "    print(x)\n",
    "    x = i\n",
    "print(x)"
   ]
  },
  {
   "cell_type": "markdown",
   "metadata": {
    "run_control": {
     "frozen": false,
     "read_only": false
    }
   },
   "source": [
    "**Exercise 3:** \n",
    "> Use a `for` loop to compute the sum of `values`, where values is a list of all numbers 1 through 5."
   ]
  },
  {
   "cell_type": "code",
   "execution_count": null,
   "metadata": {},
   "outputs": [],
   "source": []
  },
  {
   "cell_type": "code",
   "execution_count": null,
   "metadata": {
    "ExecuteTime": {
     "end_time": "2018-02-03T03:45:11.025496Z",
     "start_time": "2018-02-03T03:45:11.019349Z"
    }
   },
   "outputs": [],
   "source": [
    "# alternative solution & look ahead\n",
    "sum(range(1,6))"
   ]
  },
  {
   "cell_type": "markdown",
   "metadata": {},
   "source": [
    "What if we need to loop through and get both the indexes AND the values inside a list?"
   ]
  },
  {
   "cell_type": "code",
   "execution_count": null,
   "metadata": {
    "ExecuteTime": {
     "end_time": "2018-02-03T03:45:22.523158Z",
     "start_time": "2018-02-03T03:45:22.514859Z"
    }
   },
   "outputs": [],
   "source": [
    "values = [1,2,3,4,5]\n",
    "for i, val in enumerate(values):\n",
    "    print(i,val)"
   ]
  },
  {
   "cell_type": "markdown",
   "metadata": {},
   "source": [
    "## Nesting Lists"
   ]
  },
  {
   "cell_type": "markdown",
   "metadata": {
    "run_control": {
     "frozen": false,
     "read_only": false
    }
   },
   "source": [
    "One last note about lists for now, you can 'nest' them. Which basically means, you're able to create lists of lists! Let's think about this from a data perspective. Let's say you do 5 measurements, and each measurement has 2 sensors. You could have a list of 5 lists, and each sublist could be the 2 sensor values. Like this:"
   ]
  },
  {
   "cell_type": "code",
   "execution_count": null,
   "metadata": {
    "ExecuteTime": {
     "end_time": "2018-02-03T03:45:28.539486Z",
     "start_time": "2018-02-03T03:45:28.533582Z"
    },
    "run_control": {
     "frozen": false,
     "read_only": false
    }
   },
   "outputs": [],
   "source": [
    "list_of_lists = [[1,0],[2,3],[5,7],[1,2],[5,3]]\n",
    "print(list_of_lists)"
   ]
  },
  {
   "cell_type": "code",
   "execution_count": null,
   "metadata": {
    "ExecuteTime": {
     "end_time": "2018-02-03T03:45:30.138836Z",
     "start_time": "2018-02-03T03:45:30.126982Z"
    }
   },
   "outputs": [],
   "source": [
    "# access second element in sublist\n",
    "for sublist in list_of_lists:\n",
    "    print(\"Sublist:\", sublist)"
   ]
  },
  {
   "cell_type": "code",
   "execution_count": null,
   "metadata": {
    "ExecuteTime": {
     "end_time": "2018-02-03T03:45:30.884255Z",
     "start_time": "2018-02-03T03:45:30.878693Z"
    }
   },
   "outputs": [],
   "source": [
    "# access 2nd element of 3rd list\n",
    "list_of_lists[2][1]"
   ]
  },
  {
   "cell_type": "code",
   "execution_count": null,
   "metadata": {
    "ExecuteTime": {
     "end_time": "2018-02-03T03:45:31.898967Z",
     "start_time": "2018-02-03T03:45:31.888379Z"
    },
    "run_control": {
     "frozen": false,
     "read_only": false
    }
   },
   "outputs": [],
   "source": [
    "# access second element in sublist\n",
    "for sublist in list_of_lists:\n",
    "    print(\"Sublist:\", sublist[1])"
   ]
  },
  {
   "cell_type": "markdown",
   "metadata": {},
   "source": [
    "## Which variables are in my Namespace?"
   ]
  },
  {
   "cell_type": "code",
   "execution_count": null,
   "metadata": {
    "ExecuteTime": {
     "end_time": "2018-02-03T03:45:40.500537Z",
     "start_time": "2018-02-03T03:45:40.490856Z"
    }
   },
   "outputs": [],
   "source": [
    "whos"
   ]
  },
  {
   "cell_type": "code",
   "execution_count": null,
   "metadata": {
    "ExecuteTime": {
     "end_time": "2018-02-03T03:45:41.626734Z",
     "start_time": "2018-02-03T03:45:41.622508Z"
    }
   },
   "outputs": [],
   "source": [
    "# let's delete x\n",
    "del x"
   ]
  },
  {
   "cell_type": "code",
   "execution_count": null,
   "metadata": {
    "ExecuteTime": {
     "end_time": "2018-02-03T03:45:42.627675Z",
     "start_time": "2018-02-03T03:45:42.613925Z"
    }
   },
   "outputs": [],
   "source": [
    "whos"
   ]
  },
  {
   "cell_type": "markdown",
   "metadata": {},
   "source": [
    "## Nesting for loops"
   ]
  },
  {
   "cell_type": "markdown",
   "metadata": {
    "run_control": {
     "frozen": false,
     "read_only": false
    }
   },
   "source": [
    "Speaking of nesting, we can also nest for loops. Let's take this chance to introduce the \"range\" function and comments in python. A comment is something you add to your code that Python doesn't try to run as code. It's denoted like this: \n",
    "\n",
    "```python\n",
    "for blah in blahs:\n",
    "    # This is a comment. Python will skip anything after the #\n",
    "    x = blah # I can even put my comment after a line. It will run the line up to the start of the comment\n",
    "```\n",
    "\n",
    "Okay. So those are comments. What is the `range` function? It's a way to make a list of consecutive values. Let's look below."
   ]
  },
  {
   "cell_type": "code",
   "execution_count": null,
   "metadata": {
    "ExecuteTime": {
     "end_time": "2018-02-03T03:45:52.834450Z",
     "start_time": "2018-02-03T03:45:52.823774Z"
    },
    "run_control": {
     "frozen": false,
     "read_only": false
    }
   },
   "outputs": [],
   "source": [
    "for x in range(5):\n",
    "    print(x)"
   ]
  },
  {
   "cell_type": "code",
   "execution_count": null,
   "metadata": {
    "ExecuteTime": {
     "end_time": "2018-02-03T03:45:54.085460Z",
     "start_time": "2018-02-03T03:45:54.077801Z"
    }
   },
   "outputs": [],
   "source": [
    "for x in [0,1,2,3,4]:\n",
    "    print(x)"
   ]
  },
  {
   "cell_type": "markdown",
   "metadata": {
    "run_control": {
     "frozen": false,
     "read_only": false
    }
   },
   "source": [
    "Now let's use this to create a nested `for` loop."
   ]
  },
  {
   "cell_type": "code",
   "execution_count": null,
   "metadata": {
    "ExecuteTime": {
     "end_time": "2018-02-03T03:45:57.626868Z",
     "start_time": "2018-02-03T03:45:57.612041Z"
    },
    "run_control": {
     "frozen": false,
     "read_only": false
    }
   },
   "outputs": [],
   "source": [
    "for i in range(5):\n",
    "    print(\"i = \",i)\n",
    "    for j in range(3):\n",
    "        print(\"  j = \",j)"
   ]
  },
  {
   "cell_type": "markdown",
   "metadata": {
    "run_control": {
     "frozen": false,
     "read_only": false
    }
   },
   "source": [
    "The idea here is that the outer `for` loop only repeats when it gets to the bottom of its indented stuff. Since there's a `for` loop inside, it runs all the way through EVERYTIME for the outer `for`. We can see that for every `i` all the `j`'s get a chance to show up."
   ]
  },
  {
   "cell_type": "markdown",
   "metadata": {
    "run_control": {
     "frozen": false,
     "read_only": false
    }
   },
   "source": [
    "## Slicing Lists"
   ]
  },
  {
   "cell_type": "markdown",
   "metadata": {
    "run_control": {
     "frozen": false,
     "read_only": false
    }
   },
   "source": [
    "Ordered collections can be sliced in a variety of ways using bracket notation. This notation takes three optional limits, which are each separated by colons:\n",
    "\n",
    "> `a_list[start:stop:skip]`"
   ]
  },
  {
   "cell_type": "code",
   "execution_count": null,
   "metadata": {
    "ExecuteTime": {
     "end_time": "2018-02-03T03:46:05.467880Z",
     "start_time": "2018-02-03T03:46:05.462046Z"
    },
    "run_control": {
     "frozen": false,
     "read_only": false
    }
   },
   "outputs": [],
   "source": [
    "a_list = ['a', 'b', 'c', 'd', 'e']\n",
    "a_list"
   ]
  },
  {
   "cell_type": "code",
   "execution_count": null,
   "metadata": {
    "ExecuteTime": {
     "end_time": "2018-02-03T03:46:06.264638Z",
     "start_time": "2018-02-03T03:46:06.257626Z"
    }
   },
   "outputs": [],
   "source": [
    "# First two elements\n",
    "a_list[0:2]"
   ]
  },
  {
   "cell_type": "code",
   "execution_count": null,
   "metadata": {
    "ExecuteTime": {
     "end_time": "2018-02-03T03:46:08.651646Z",
     "start_time": "2018-02-03T03:46:08.645311Z"
    }
   },
   "outputs": [],
   "source": [
    "# Last two elements\n",
    "a_list[-2:]"
   ]
  },
  {
   "cell_type": "code",
   "execution_count": null,
   "metadata": {
    "ExecuteTime": {
     "end_time": "2018-02-03T03:46:10.335376Z",
     "start_time": "2018-02-03T03:46:10.326397Z"
    }
   },
   "outputs": [],
   "source": [
    "# Every second element starting with the second one\n",
    "a_list[1::2]"
   ]
  },
  {
   "cell_type": "markdown",
   "metadata": {
    "run_control": {
     "frozen": false,
     "read_only": false
    }
   },
   "source": [
    "## List Comprehensions"
   ]
  },
  {
   "cell_type": "markdown",
   "metadata": {
    "run_control": {
     "frozen": false,
     "read_only": false
    }
   },
   "source": [
    "Python has a very unique and compact way of iterating over things called a comprehension."
   ]
  },
  {
   "cell_type": "code",
   "execution_count": null,
   "metadata": {
    "ExecuteTime": {
     "end_time": "2018-02-03T03:46:48.720545Z",
     "start_time": "2018-02-03T03:46:48.712329Z"
    },
    "run_control": {
     "frozen": false,
     "read_only": false
    }
   },
   "outputs": [],
   "source": [
    "a_list = [10, 9, 8, 7, 6, 5, 4, 3, 2, 1]\n",
    "a_list"
   ]
  },
  {
   "cell_type": "code",
   "execution_count": null,
   "metadata": {
    "ExecuteTime": {
     "end_time": "2018-02-03T03:46:50.119480Z",
     "start_time": "2018-02-03T03:46:50.111672Z"
    }
   },
   "outputs": [],
   "source": [
    "# Subtract 1 from each element in the list\n",
    "b_list = [x - 1 for x in a_list]\n",
    "b_list"
   ]
  },
  {
   "cell_type": "code",
   "execution_count": null,
   "metadata": {
    "ExecuteTime": {
     "end_time": "2018-02-03T03:46:50.990657Z",
     "start_time": "2018-02-03T03:46:50.980023Z"
    }
   },
   "outputs": [],
   "source": [
    "a_list[0] = 100\n",
    "a_list"
   ]
  },
  {
   "cell_type": "code",
   "execution_count": null,
   "metadata": {
    "ExecuteTime": {
     "end_time": "2018-02-03T03:46:52.191994Z",
     "start_time": "2018-02-03T03:46:52.182801Z"
    }
   },
   "outputs": [],
   "source": [
    "b_list"
   ]
  },
  {
   "cell_type": "code",
   "execution_count": null,
   "metadata": {
    "ExecuteTime": {
     "end_time": "2018-02-03T03:46:52.878373Z",
     "start_time": "2018-02-03T03:46:52.871305Z"
    }
   },
   "outputs": [],
   "source": [
    "# We can also use extra conditions like:\n",
    "c_list = [x for x in a_list if 5 < x < 9]\n",
    "c_list"
   ]
  },
  {
   "cell_type": "markdown",
   "metadata": {
    "run_control": {
     "frozen": false,
     "read_only": false
    }
   },
   "source": [
    "## Some other data structures: Sets and Tuples"
   ]
  },
  {
   "cell_type": "markdown",
   "metadata": {
    "run_control": {
     "frozen": false,
     "read_only": false
    }
   },
   "source": [
    "Let's talk about a few more built-in Python structures that are similar to lists. Let's start with sets. "
   ]
  },
  {
   "cell_type": "code",
   "execution_count": null,
   "metadata": {
    "ExecuteTime": {
     "end_time": "2018-02-03T03:46:55.270491Z",
     "start_time": "2018-02-03T03:46:55.259535Z"
    },
    "run_control": {
     "frozen": false,
     "read_only": false
    }
   },
   "outputs": [],
   "source": [
    "list_of_numbers = [1,2,2,2,4,3,5]\n",
    "set(list_of_numbers)"
   ]
  },
  {
   "cell_type": "code",
   "execution_count": null,
   "metadata": {
    "ExecuteTime": {
     "end_time": "2018-02-03T03:46:56.314032Z",
     "start_time": "2018-02-03T03:46:56.299212Z"
    }
   },
   "outputs": [],
   "source": [
    "for i in list_of_numbers:\n",
    "    print(i)"
   ]
  },
  {
   "cell_type": "code",
   "execution_count": null,
   "metadata": {
    "ExecuteTime": {
     "end_time": "2018-02-03T03:46:57.040119Z",
     "start_time": "2018-02-03T03:46:57.034736Z"
    }
   },
   "outputs": [],
   "source": [
    "for i in set(list_of_numbers):\n",
    "    print(i)"
   ]
  },
  {
   "cell_type": "markdown",
   "metadata": {
    "run_control": {
     "frozen": false,
     "read_only": false
    }
   },
   "source": [
    "So a set has a curly bracket around it, and it doesn't have duplicate values! It also sorted all the values into ascending order! Otherwise, it behaves very similarly to a list in most ways. One **BIG** difference is that in sets you can't change values on the fly like you can in a list. As an example, let's try changing an element in both a list and a set (we should see an error from the set): "
   ]
  },
  {
   "cell_type": "code",
   "execution_count": null,
   "metadata": {
    "ExecuteTime": {
     "end_time": "2018-02-03T03:46:58.679797Z",
     "start_time": "2018-02-03T03:46:58.672956Z"
    },
    "run_control": {
     "frozen": false,
     "read_only": false
    }
   },
   "outputs": [],
   "source": [
    "li = [1,2,3]\n",
    "print(type(li))\n",
    "li[0] = 7\n",
    "print(li)"
   ]
  },
  {
   "cell_type": "code",
   "execution_count": null,
   "metadata": {
    "ExecuteTime": {
     "end_time": "2018-02-03T03:47:00.014542Z",
     "start_time": "2018-02-03T03:46:59.982656Z"
    },
    "run_control": {
     "frozen": false,
     "read_only": false
    }
   },
   "outputs": [],
   "source": [
    "s = set([1,2,3])\n",
    "print(type(s))\n",
    "s[0] = 7\n",
    "print(s)"
   ]
  },
  {
   "cell_type": "markdown",
   "metadata": {
    "run_control": {
     "frozen": false,
     "read_only": false
    }
   },
   "source": [
    "Sets can be modified using some extra functions like `update()` but that's best saved for another time. Sets also don't have indexing! Meaning something like `s[3]` will throw in an error."
   ]
  },
  {
   "cell_type": "code",
   "execution_count": null,
   "metadata": {
    "ExecuteTime": {
     "end_time": "2018-02-03T03:47:08.685928Z",
     "start_time": "2018-02-03T03:47:08.677601Z"
    },
    "run_control": {
     "frozen": false,
     "read_only": false
    }
   },
   "outputs": [],
   "source": [
    "s = {1,2,2,3}\n",
    "s"
   ]
  },
  {
   "cell_type": "code",
   "execution_count": null,
   "metadata": {
    "ExecuteTime": {
     "end_time": "2018-02-03T03:47:09.570436Z",
     "start_time": "2018-02-03T03:47:09.558598Z"
    }
   },
   "outputs": [],
   "source": [
    "s[1]"
   ]
  },
  {
   "cell_type": "markdown",
   "metadata": {
    "run_control": {
     "frozen": false,
     "read_only": false
    }
   },
   "source": [
    "Sets can be very handy when you're trying to find only unique values, removing duplicates and the like. However, in-practice they aren't used as much as lists.\n",
    "\n",
    "So what about 'tuples?' Tuples are denoted by parenthesis around a bunch of items. Tuples are just like lists, except they are _immutable_. Being immutable means once a tuple is constrcuted, you can't go in and make changes to the values. They DO allow for duplicates and indexing, unlike sets. Check it out:"
   ]
  },
  {
   "cell_type": "code",
   "execution_count": null,
   "metadata": {
    "ExecuteTime": {
     "end_time": "2018-02-03T03:47:11.592878Z",
     "start_time": "2018-02-03T03:47:11.586199Z"
    },
    "run_control": {
     "frozen": false,
     "read_only": false
    }
   },
   "outputs": [],
   "source": [
    "li = [1,2,3,4,5,5]\n",
    "tup = tuple(li)\n",
    "tup"
   ]
  },
  {
   "cell_type": "code",
   "execution_count": null,
   "metadata": {
    "ExecuteTime": {
     "end_time": "2018-02-03T04:25:07.733952Z",
     "start_time": "2018-02-03T04:25:07.713702Z"
    }
   },
   "outputs": [],
   "source": [
    "tup[2]"
   ]
  },
  {
   "cell_type": "code",
   "execution_count": null,
   "metadata": {
    "ExecuteTime": {
     "end_time": "2018-02-03T04:25:08.662458Z",
     "start_time": "2018-02-03T04:25:08.657778Z"
    }
   },
   "outputs": [],
   "source": [
    "type(tup)"
   ]
  },
  {
   "cell_type": "code",
   "execution_count": null,
   "metadata": {
    "ExecuteTime": {
     "end_time": "2018-02-03T04:25:09.518917Z",
     "start_time": "2018-02-03T04:25:09.481257Z"
    },
    "run_control": {
     "frozen": false,
     "read_only": false
    }
   },
   "outputs": [],
   "source": [
    "tup[0] = 5"
   ]
  },
  {
   "cell_type": "markdown",
   "metadata": {
    "run_control": {
     "frozen": false,
     "read_only": false
    }
   },
   "source": [
    "Tuples are great things when you have data that you don't want to ever be changed. For instance, if we were reading our sensor data like above and we never wanted to lose the correlation between sensor 1 and sensor 2, we might cast (meaning: convert the data) into a tuple before we do any manipulation. That way, we always have sensor 1 and 2 together for each measurement, unchanged."
   ]
  },
  {
   "cell_type": "code",
   "execution_count": null,
   "metadata": {
    "ExecuteTime": {
     "end_time": "2018-02-03T04:25:11.515099Z",
     "start_time": "2018-02-03T04:25:11.506587Z"
    }
   },
   "outputs": [],
   "source": [
    "tup3 = ('a', 2)\n",
    "tup3"
   ]
  },
  {
   "cell_type": "code",
   "execution_count": null,
   "metadata": {
    "ExecuteTime": {
     "end_time": "2018-02-03T04:25:12.581843Z",
     "start_time": "2018-02-03T04:25:12.575530Z"
    }
   },
   "outputs": [],
   "source": [
    "type(tup3)"
   ]
  },
  {
   "cell_type": "markdown",
   "metadata": {
    "run_control": {
     "frozen": false,
     "read_only": false
    }
   },
   "source": [
    "** Exercise 4: **\n",
    "> Given the list [1,4,4,8,9,3,2,7,5,5,5,5,5], get me a tuple that contains only the unique values in the list, ordered from low to high."
   ]
  },
  {
   "cell_type": "code",
   "execution_count": null,
   "metadata": {
    "ExecuteTime": {
     "end_time": "2018-02-03T04:25:14.216557Z",
     "start_time": "2018-02-03T04:25:14.212443Z"
    }
   },
   "outputs": [],
   "source": [
    "mylist = [1,4,4,8,9,3,2,7,5,5,5,5,5]\n",
    "# your code here\n"
   ]
  },
  {
   "cell_type": "markdown",
   "metadata": {},
   "source": [
    "## Quick aside: in-place or not?"
   ]
  },
  {
   "cell_type": "code",
   "execution_count": null,
   "metadata": {
    "ExecuteTime": {
     "end_time": "2018-02-03T04:25:16.057222Z",
     "start_time": "2018-02-03T04:25:16.047873Z"
    }
   },
   "outputs": [],
   "source": [
    "sorted(mylist, reverse=True)"
   ]
  },
  {
   "cell_type": "code",
   "execution_count": null,
   "metadata": {
    "ExecuteTime": {
     "end_time": "2018-02-03T04:25:19.296194Z",
     "start_time": "2018-02-03T04:25:19.287490Z"
    }
   },
   "outputs": [],
   "source": [
    "mylist"
   ]
  },
  {
   "cell_type": "code",
   "execution_count": null,
   "metadata": {
    "ExecuteTime": {
     "end_time": "2018-02-03T04:25:22.598245Z",
     "start_time": "2018-02-03T04:25:22.592856Z"
    }
   },
   "outputs": [],
   "source": [
    "mylist.sort()\n",
    "mylist"
   ]
  },
  {
   "cell_type": "markdown",
   "metadata": {
    "run_control": {
     "frozen": false,
     "read_only": false
    }
   },
   "source": [
    "## A few last notes about lists, indexing, sets, and tuples before we move on to dictionaries"
   ]
  },
  {
   "cell_type": "markdown",
   "metadata": {
    "run_control": {
     "frozen": false,
     "read_only": false
    }
   },
   "source": [
    "There are a few really useful things in Python we haven't covered yet. One of them is the length (`len()`) function. Let's see an example:"
   ]
  },
  {
   "cell_type": "code",
   "execution_count": null,
   "metadata": {
    "ExecuteTime": {
     "end_time": "2018-02-03T04:25:32.441933Z",
     "start_time": "2018-02-03T04:25:32.435770Z"
    },
    "run_control": {
     "frozen": false,
     "read_only": false
    }
   },
   "outputs": [],
   "source": [
    "len(mylist)"
   ]
  },
  {
   "cell_type": "markdown",
   "metadata": {
    "run_control": {
     "frozen": false,
     "read_only": false
    }
   },
   "source": [
    "This prints the number of elements in a list! This means if we have a huge array where we're not sure how big it is, we can just look up the `len()` and we can find out.\n",
    "\n",
    "There are also interesting things about indexing that we should check out. For instance, what if we want to get the last element but we don't know how long the list is? We could find out the length and then do it that way... _OR_ we could use the power of Python's indexing. Check this out:"
   ]
  },
  {
   "cell_type": "code",
   "execution_count": null,
   "metadata": {
    "ExecuteTime": {
     "end_time": "2018-02-03T04:25:34.105348Z",
     "start_time": "2018-02-03T04:25:34.094609Z"
    },
    "run_control": {
     "frozen": false,
     "read_only": false
    }
   },
   "outputs": [],
   "source": [
    "li = list(range(1,10))\n",
    "li"
   ]
  },
  {
   "cell_type": "code",
   "execution_count": null,
   "metadata": {
    "ExecuteTime": {
     "end_time": "2018-02-03T04:25:35.113730Z",
     "start_time": "2018-02-03T04:25:35.105932Z"
    }
   },
   "outputs": [],
   "source": [
    "li[-1]"
   ]
  },
  {
   "cell_type": "code",
   "execution_count": null,
   "metadata": {
    "ExecuteTime": {
     "end_time": "2018-02-03T04:25:36.234120Z",
     "start_time": "2018-02-03T04:25:36.224984Z"
    }
   },
   "outputs": [],
   "source": [
    "li[-2]"
   ]
  },
  {
   "cell_type": "markdown",
   "metadata": {
    "run_control": {
     "frozen": false,
     "read_only": false
    }
   },
   "source": [
    "What if we want to get a sub-section of the list? We can also do that with indexing!"
   ]
  },
  {
   "cell_type": "code",
   "execution_count": null,
   "metadata": {
    "ExecuteTime": {
     "end_time": "2018-02-03T04:25:37.635036Z",
     "start_time": "2018-02-03T04:25:37.627826Z"
    },
    "run_control": {
     "frozen": false,
     "read_only": false
    }
   },
   "outputs": [],
   "source": [
    "li[2:5] # remember, Python starts with element index = 0, so index 2 is actually the third element in the list"
   ]
  },
  {
   "cell_type": "markdown",
   "metadata": {
    "run_control": {
     "frozen": false,
     "read_only": false
    }
   },
   "source": [
    "There's also some special notation that tell's Python, 'hey, just start at the beginning and go to this index' or 'hey, start at this index and go to the end.'"
   ]
  },
  {
   "cell_type": "code",
   "execution_count": null,
   "metadata": {
    "ExecuteTime": {
     "end_time": "2018-02-03T04:25:39.286271Z",
     "start_time": "2018-02-03T04:25:39.279342Z"
    },
    "run_control": {
     "frozen": false,
     "read_only": false
    }
   },
   "outputs": [],
   "source": [
    "# The beginning of this section is 0 since there's no starting number\n",
    "li[:2] "
   ]
  },
  {
   "cell_type": "code",
   "execution_count": null,
   "metadata": {
    "ExecuteTime": {
     "end_time": "2018-02-03T04:25:39.929801Z",
     "start_time": "2018-02-03T04:25:39.922687Z"
    }
   },
   "outputs": [],
   "source": [
    "# The end of this section is the last element, since there's no closing number\n",
    "li[5:] "
   ]
  },
  {
   "cell_type": "code",
   "execution_count": null,
   "metadata": {
    "ExecuteTime": {
     "end_time": "2018-02-03T04:25:40.549820Z",
     "start_time": "2018-02-03T04:25:40.540478Z"
    },
    "run_control": {
     "frozen": false,
     "read_only": false
    }
   },
   "outputs": [],
   "source": [
    "# we can also do reverse sections! Let's get the last 5 elements!\n",
    "li[-5:] "
   ]
  },
  {
   "cell_type": "markdown",
   "metadata": {
    "run_control": {
     "frozen": false,
     "read_only": false
    }
   },
   "source": [
    "**Exercise 5: **\n",
    "> Given the list [1,2,3,4,5,6,7,8,9,0,1,2,3,4,5,6,7,8,9], print the last 3 values, the first 9 values, and the values at indexes 7-10 (not including 10!)"
   ]
  },
  {
   "cell_type": "code",
   "execution_count": null,
   "metadata": {},
   "outputs": [],
   "source": []
  },
  {
   "cell_type": "markdown",
   "metadata": {
    "run_control": {
     "frozen": false,
     "read_only": false
    }
   },
   "source": [
    "## Dictionaries - A complement to lists"
   ]
  },
  {
   "cell_type": "markdown",
   "metadata": {
    "run_control": {
     "frozen": false,
     "read_only": false
    }
   },
   "source": [
    "Dictionaries are a handy way to store things when you want to be able to look them up by a name and the order of storage doesn't matter. Let's take a look at an example of a dictionary. Dictionaries are also denoted by curly brackets, but we'll see they have a different internal structure."
   ]
  },
  {
   "cell_type": "code",
   "execution_count": null,
   "metadata": {
    "ExecuteTime": {
     "end_time": "2018-02-03T04:25:43.423366Z",
     "start_time": "2018-02-03T04:25:43.414542Z"
    },
    "run_control": {
     "frozen": false,
     "read_only": false
    }
   },
   "outputs": [],
   "source": [
    "dictionary = {'Alex': 1, \"Ron\": [2,3,4,5]}\n",
    "dictionary['Alex']"
   ]
  },
  {
   "cell_type": "code",
   "execution_count": null,
   "metadata": {
    "ExecuteTime": {
     "end_time": "2018-02-03T04:25:44.067843Z",
     "start_time": "2018-02-03T04:25:44.059825Z"
    },
    "run_control": {
     "frozen": false,
     "read_only": false
    }
   },
   "outputs": [],
   "source": [
    "dictionary['Ron'][2:]"
   ]
  },
  {
   "cell_type": "markdown",
   "metadata": {
    "run_control": {
     "frozen": false,
     "read_only": false
    }
   },
   "source": [
    "Right away, you can see that dictionaries aren't storing indexes... they're storing `keys`. These keys are how we look things up in a dictionary... and while the traditional example is to use a string as the key, we don't have to. We can also do something like:"
   ]
  },
  {
   "cell_type": "code",
   "execution_count": null,
   "metadata": {
    "ExecuteTime": {
     "end_time": "2018-02-03T04:25:45.340298Z",
     "start_time": "2018-02-03T04:25:45.333096Z"
    },
    "run_control": {
     "frozen": false,
     "read_only": false
    }
   },
   "outputs": [],
   "source": [
    "dict2 = {1: [2,3,4,5], 2:[11,12,13]}\n",
    "print(dict2[1])\n",
    "print(dict2[2])"
   ]
  },
  {
   "cell_type": "markdown",
   "metadata": {
    "run_control": {
     "frozen": false,
     "read_only": false
    }
   },
   "source": [
    "Dictionary look-ups are super fast compared to lists in many cases. Thus, they can be quite useful in many circumstances. However, dictionaries don't maintain order... so it's very important not to rely on ordering when using dictionaries. Dictionaries can also have sub-dictionaries. For instance, let's look at how we might store information about some baseball players."
   ]
  },
  {
   "cell_type": "code",
   "execution_count": null,
   "metadata": {
    "ExecuteTime": {
     "end_time": "2018-02-03T04:25:50.183504Z",
     "start_time": "2018-02-03T04:25:50.173595Z"
    },
    "run_control": {
     "frozen": false,
     "read_only": false
    }
   },
   "outputs": [],
   "source": [
    "# Let's assume a format like [Team, Games, Plate Apperance, Home Runs]\n",
    "career_stats = {'babe_ruth': {1914: [\"Red Sox\", 5, 10, 0], 1915:['Red Sox', 43, 104, 4]},\n",
    "                'gavvy_cravath': {1914: ['Phillies',149,604,14]}} # Yes, that's a real baseball player's name\n",
    "career_stats['babe_ruth']"
   ]
  },
  {
   "cell_type": "code",
   "execution_count": null,
   "metadata": {
    "ExecuteTime": {
     "end_time": "2018-02-03T04:26:10.167636Z",
     "start_time": "2018-02-03T04:26:10.161157Z"
    },
    "run_control": {
     "frozen": false,
     "read_only": false
    }
   },
   "outputs": [],
   "source": [
    "career_stats['gavvy_cravath'][1914]"
   ]
  },
  {
   "cell_type": "code",
   "execution_count": null,
   "metadata": {
    "ExecuteTime": {
     "end_time": "2018-02-03T04:26:11.165597Z",
     "start_time": "2018-02-03T04:26:11.159544Z"
    },
    "run_control": {
     "frozen": false,
     "read_only": false
    }
   },
   "outputs": [],
   "source": [
    "for key in career_stats['babe_ruth'].keys():\n",
    "    print(key)"
   ]
  },
  {
   "cell_type": "code",
   "execution_count": null,
   "metadata": {
    "ExecuteTime": {
     "end_time": "2018-02-03T04:26:11.944303Z",
     "start_time": "2018-02-03T04:26:11.936566Z"
    }
   },
   "outputs": [],
   "source": [
    "for key, value in career_stats['babe_ruth'].items():\n",
    "    print(key, value)"
   ]
  },
  {
   "cell_type": "markdown",
   "metadata": {
    "run_control": {
     "frozen": false,
     "read_only": false
    }
   },
   "source": [
    "## If statements - making decisions with variables"
   ]
  },
  {
   "cell_type": "markdown",
   "metadata": {
    "run_control": {
     "frozen": false,
     "read_only": false
    }
   },
   "source": [
    "If statements are a ubiquitous part of pretty much all programming languages. We often want to treat things differently based on whether a value is big or small... true or false, etc. So let's see how this works in Python."
   ]
  },
  {
   "cell_type": "code",
   "execution_count": null,
   "metadata": {
    "ExecuteTime": {
     "end_time": "2018-02-03T04:26:24.156424Z",
     "start_time": "2018-02-03T04:26:24.146766Z"
    },
    "run_control": {
     "frozen": false,
     "read_only": false
    }
   },
   "outputs": [],
   "source": [
    "do_you_like_coffee = False\n",
    "\n",
    "if do_you_like_coffee: # This by default is asking if it's true. The same as: `if do_you_like_coffee == True`\n",
    "    print(\"I'm sorry you make bad choices.\")\n",
    "else:\n",
    "    print(\"Fight the coffee-archy, comrade.\")"
   ]
  },
  {
   "cell_type": "code",
   "execution_count": null,
   "metadata": {
    "ExecuteTime": {
     "end_time": "2018-02-03T04:26:24.820089Z",
     "start_time": "2018-02-03T04:26:24.803891Z"
    }
   },
   "outputs": [],
   "source": [
    "# Truthiness in Python - show what happens when changing x to different values\n",
    "x = 1\n",
    "if x:  ## true\n",
    "    print('hi')\n",
    "else:  ## false\n",
    "    print('bye')"
   ]
  },
  {
   "cell_type": "markdown",
   "metadata": {},
   "source": [
    "Truthiness relies on a few assumptions by Python:\n",
    "* 0 = False\n",
    "* Empty list/tuple = false\n",
    "* Empty string = false\n",
    "\n",
    "So we want to rely on that for checking our objects."
   ]
  },
  {
   "cell_type": "code",
   "execution_count": null,
   "metadata": {
    "ExecuteTime": {
     "end_time": "2018-02-03T04:26:26.188246Z",
     "start_time": "2018-02-03T04:26:26.180190Z"
    }
   },
   "outputs": [],
   "source": [
    "if [] or tuple():\n",
    "    print(\"1, THIS WAS FALSE\")\n",
    "if [1,2,3]:\n",
    "    print(\"2, THIS WAS TRUE\")"
   ]
  },
  {
   "cell_type": "markdown",
   "metadata": {
    "run_control": {
     "frozen": false,
     "read_only": false
    }
   },
   "source": [
    "If statements can also work with numbers by checking for greater than, less than, equal to, etc. Let's see."
   ]
  },
  {
   "cell_type": "code",
   "execution_count": null,
   "metadata": {
    "ExecuteTime": {
     "end_time": "2018-02-03T04:26:27.641686Z",
     "start_time": "2018-02-03T04:26:27.634671Z"
    },
    "run_control": {
     "frozen": false,
     "read_only": false
    }
   },
   "outputs": [],
   "source": [
    "if 4 > 2.33:\n",
    "    print(\"Math works\")\n",
    "else:\n",
    "    print(\"WHAT HAVE WE DONE\")"
   ]
  },
  {
   "cell_type": "code",
   "execution_count": null,
   "metadata": {
    "ExecuteTime": {
     "end_time": "2018-02-03T04:26:28.690838Z",
     "start_time": "2018-02-03T04:26:28.677540Z"
    }
   },
   "outputs": [],
   "source": [
    "x = 7.8\n",
    "if x == 8.0: # we use two equals for comparison, since one equals tells python to set x to that value\n",
    "    print(\"x = 8.0\")\n",
    "elif x > 7.7: # this is an else-if statement. It allows us to do multiple checks in one if setup\n",
    "    print(\"x > 7.7\")\n",
    "elif x > 7.0:\n",
    "    print(\"x > 7.0\")\n",
    "else:\n",
    "    print(\"x <= 7.0\")"
   ]
  },
  {
   "cell_type": "markdown",
   "metadata": {
    "run_control": {
     "frozen": false,
     "read_only": false
    }
   },
   "source": [
    "We can also do type checking with if statements. For instance, we want to throw an error if we try to add 2 to a string. Let's try that:"
   ]
  },
  {
   "cell_type": "code",
   "execution_count": null,
   "metadata": {
    "ExecuteTime": {
     "end_time": "2018-02-03T04:26:36.775666Z",
     "start_time": "2018-02-03T04:26:36.766511Z"
    },
    "run_control": {
     "frozen": false,
     "read_only": false
    }
   },
   "outputs": [],
   "source": [
    "user_input = 'bob'\n",
    "\n",
    "if type(user_input) == type(1) or type(user_input) == type(1.5):\n",
    "    print(user_input +2 )\n",
    "else:\n",
    "    print(\"ERROR: NOT AN INTEGER OR FLOAT\")"
   ]
  },
  {
   "cell_type": "markdown",
   "metadata": {
    "run_control": {
     "frozen": false,
     "read_only": false
    }
   },
   "source": [
    "If statements are super handy... but luckily for us there isn't much more to them. It's always asking true-false questions, then modifying the codes behavior based on that answer. We can chain together things with `and` and `or` as shown above; but the logic side of how and when `and's` and `or's` should be used is best saved for another time. "
   ]
  },
  {
   "cell_type": "markdown",
   "metadata": {
    "run_control": {
     "frozen": false,
     "read_only": false
    }
   },
   "source": [
    "# Functions - How we SHOULD reuse code"
   ]
  },
  {
   "cell_type": "markdown",
   "metadata": {
    "run_control": {
     "frozen": false,
     "read_only": false
    }
   },
   "source": [
    "One of the beauties of Python is that it allows for function building. What is a function? Let's demonstrate with a simple example. Let's imagine we often want to compute some mathematical function on our variables. For instance, let's say we often want to get the square of some number. We could of course do this with Python in-line, but we could also make a block of code that does that. "
   ]
  },
  {
   "cell_type": "code",
   "execution_count": null,
   "metadata": {
    "ExecuteTime": {
     "end_time": "2018-02-03T04:26:49.508732Z",
     "start_time": "2018-02-03T04:26:49.502920Z"
    },
    "run_control": {
     "frozen": false,
     "read_only": false
    }
   },
   "outputs": [],
   "source": [
    "def square(x):\n",
    "    '''This is a doc string. It tells us what this function does'''\n",
    "    return x**2"
   ]
  },
  {
   "cell_type": "code",
   "execution_count": null,
   "metadata": {
    "ExecuteTime": {
     "end_time": "2018-02-03T04:26:50.251697Z",
     "start_time": "2018-02-03T04:26:50.244281Z"
    }
   },
   "outputs": [],
   "source": [
    "square(4)"
   ]
  },
  {
   "cell_type": "code",
   "execution_count": null,
   "metadata": {
    "ExecuteTime": {
     "end_time": "2018-02-03T04:26:51.046864Z",
     "start_time": "2018-02-03T04:26:51.040842Z"
    }
   },
   "outputs": [],
   "source": [
    "x = square(3)\n",
    "x"
   ]
  },
  {
   "cell_type": "code",
   "execution_count": null,
   "metadata": {
    "ExecuteTime": {
     "end_time": "2018-02-03T04:26:52.162648Z",
     "start_time": "2018-02-03T04:26:52.156190Z"
    }
   },
   "outputs": [],
   "source": [
    "# nested functions\n",
    "square(square(2))"
   ]
  },
  {
   "cell_type": "markdown",
   "metadata": {
    "run_control": {
     "frozen": false,
     "read_only": false
    }
   },
   "source": [
    "This is a bit of a silly example, but it demonstrates some important concepts. First, we've defined a function with `def NAME_OF_FUNCTION()`. This means we can control how our functions are named, which means we can make our code easy to read. If we name our functions well, our code can become instantly interpretable. Next, we've demonstrated that we can send information between functions and our main code. For instance, here we told the function, \"you should expect an input, and I want you to call it `x`. If I'm still inside this function and say \"hey, what is x?\" I want you to tell me the number that the user put into the function call.\" That's called an argument of the function. By specifying the function with an `(x)`, if we try to call the function without a value, it will error (see below). "
   ]
  },
  {
   "cell_type": "code",
   "execution_count": null,
   "metadata": {
    "ExecuteTime": {
     "end_time": "2018-02-03T04:26:57.539247Z",
     "start_time": "2018-02-03T04:26:57.519785Z"
    },
    "run_control": {
     "frozen": false,
     "read_only": false
    }
   },
   "outputs": [],
   "source": [
    "square()"
   ]
  },
  {
   "cell_type": "markdown",
   "metadata": {
    "run_control": {
     "frozen": false,
     "read_only": false
    }
   },
   "source": [
    "We also see that Python continues to use indentation as a marker for being inside a function. We also have a `return` which means that we can send information back to the main code. Let's look at what happens when I call print inside the function and don't have a return."
   ]
  },
  {
   "cell_type": "code",
   "execution_count": null,
   "metadata": {
    "ExecuteTime": {
     "end_time": "2018-02-03T04:27:28.574210Z",
     "start_time": "2018-02-03T04:27:28.568094Z"
    },
    "run_control": {
     "frozen": false,
     "read_only": false
    }
   },
   "outputs": [],
   "source": [
    "def square_then_print(x):\n",
    "    y = x**2\n",
    "    print(y)\n",
    "    \n",
    "square_then_print(4)"
   ]
  },
  {
   "cell_type": "markdown",
   "metadata": {
    "run_control": {
     "frozen": false,
     "read_only": false
    }
   },
   "source": [
    "So it's also possible to not have a return in Python. Can we send variables to functions? Yep."
   ]
  },
  {
   "cell_type": "code",
   "execution_count": null,
   "metadata": {
    "ExecuteTime": {
     "end_time": "2018-02-03T04:27:30.118523Z",
     "start_time": "2018-02-03T04:27:30.109399Z"
    },
    "run_control": {
     "frozen": false,
     "read_only": false
    }
   },
   "outputs": [],
   "source": [
    "def add_one_to_var(x):\n",
    "    x += 1\n",
    "    return x\n",
    "\n",
    "z = 0\n",
    "z_plus_one = add_one_to_var(z)\n",
    "print(z_plus_one)"
   ]
  },
  {
   "cell_type": "markdown",
   "metadata": {
    "run_control": {
     "frozen": false,
     "read_only": false
    }
   },
   "source": [
    "**Exercise 6:**\n",
    "\n",
    "> Write a function that takes in a number and returns the number cubed plus 7."
   ]
  },
  {
   "cell_type": "code",
   "execution_count": null,
   "metadata": {},
   "outputs": [],
   "source": []
  },
  {
   "cell_type": "markdown",
   "metadata": {
    "run_control": {
     "frozen": false,
     "read_only": false
    }
   },
   "source": [
    "What about lists, can we send lists to functions? Absolutely."
   ]
  },
  {
   "cell_type": "code",
   "execution_count": null,
   "metadata": {
    "ExecuteTime": {
     "end_time": "2018-02-03T04:27:38.730974Z",
     "start_time": "2018-02-03T04:27:38.723027Z"
    },
    "run_control": {
     "frozen": false,
     "read_only": false
    }
   },
   "outputs": [],
   "source": [
    "def print_list(li):\n",
    "    for el in li:\n",
    "        print(el)\n",
    "        \n",
    "print_list([1,2,3,4])"
   ]
  },
  {
   "cell_type": "markdown",
   "metadata": {
    "run_control": {
     "frozen": false,
     "read_only": false
    }
   },
   "source": [
    "**Exercise 7:**\n",
    "\n",
    "> Write a function that takes a list, set, or tuple as input and computes the sum of all the elements (NOTE: Don't use the name \"sum\" as a vairable name. We'll see why in a minute.)"
   ]
  },
  {
   "cell_type": "code",
   "execution_count": null,
   "metadata": {
    "run_control": {
     "frozen": false,
     "read_only": false
    }
   },
   "outputs": [],
   "source": []
  },
  {
   "cell_type": "markdown",
   "metadata": {
    "run_control": {
     "frozen": false,
     "read_only": false
    }
   },
   "source": [
    "As a sidenote, Python actually has a really handy built-in function that computes the sum of a list really quickly. You might see it around. It goes like this:"
   ]
  },
  {
   "cell_type": "code",
   "execution_count": null,
   "metadata": {
    "ExecuteTime": {
     "end_time": "2018-02-03T04:27:51.634828Z",
     "start_time": "2018-02-03T04:27:51.627382Z"
    },
    "run_control": {
     "frozen": false,
     "read_only": false
    }
   },
   "outputs": [],
   "source": [
    "values = [1,2,3,4,5]\n",
    "print(sum(values))"
   ]
  },
  {
   "cell_type": "markdown",
   "metadata": {
    "run_control": {
     "frozen": false,
     "read_only": false
    }
   },
   "source": [
    "## Args vs Kwargs"
   ]
  },
  {
   "cell_type": "markdown",
   "metadata": {
    "run_control": {
     "frozen": false,
     "read_only": false
    }
   },
   "source": [
    "One of the main complexities that comes up in Python functions is: what if I need an argument with a default value (e.g. it's USUALLY this, but I want to allow the programmer to change it as necessary)? That's where Kwargs come in. Let's look at an example."
   ]
  },
  {
   "cell_type": "code",
   "execution_count": null,
   "metadata": {
    "ExecuteTime": {
     "end_time": "2018-02-03T04:28:01.988060Z",
     "start_time": "2018-02-03T04:28:01.976638Z"
    },
    "run_control": {
     "frozen": false,
     "read_only": false
    }
   },
   "outputs": [],
   "source": [
    "def raise_to_power(x, power=2):\n",
    "    return x**power\n",
    "\n",
    "print(raise_to_power(4)) # no Kwarg, so use default of power=2\n",
    "\n",
    "print(raise_to_power(4, power=3)) # Kwarg found, so use the value assigned!"
   ]
  },
  {
   "cell_type": "markdown",
   "metadata": {
    "run_control": {
     "frozen": false,
     "read_only": false
    }
   },
   "source": [
    "Here we've created a function that raises a number (x) to some power. In this case, `x` is an argument of the function. However, `power` is also something a user can specify, but it DOES have a default value (2). So if we call the function and never say, `power = #`, the function assumes `power=2`. Thus, `power` is called a Kwarg or **K**ey**W**ord **ARG**ument. Kwargs must always be defined with a default value in the function, and must always be listed after all of the 'regular' arguments. Kwargs are a really handy way of setting default values in functions, while still givng the user some flexibility. It's a slightly more advanced topic, so we'll just cover the basic idea here."
   ]
  },
  {
   "cell_type": "markdown",
   "metadata": {
    "run_control": {
     "frozen": false,
     "read_only": false
    }
   },
   "source": [
    "## Key Take-Aways about Functions\n",
    "\n",
    "Functions are a HUGE part of programming well. There are some key things to remember about functions:\n",
    "\n",
    "* If you are ever re-using code, put it into a function. Functions are there so you shouldn't ever copy-paste code. It's good code design to use functions.\n",
    "* Name your functions well! If I have to read your code later a function called `function2()` is not easy to understand, a function called `sum_of_list()` is!\n",
    "* Use your arguments and Kwarguments well (arguments are the things inside the parenthesis, Kwargs are in the parenthesis but with default values). If you need to have arguments, name your arguments well. We didn't do a good job of that here since they are very simple examples. Good variable naming is VITAL for bigger projects.\n",
    "* Functions will save you time. It's a pain to think about functions at the beginning, invest the time as they are wonder-workers when done well."
   ]
  },
  {
   "cell_type": "markdown",
   "metadata": {
    "run_control": {
     "frozen": false,
     "read_only": false
    }
   },
   "source": [
    "# Imports - How we can use Python's huge library of pre-made modules"
   ]
  },
  {
   "cell_type": "markdown",
   "metadata": {
    "run_control": {
     "frozen": false,
     "read_only": false
    }
   },
   "source": [
    "Importing things is how we can gain access to the best that Python has to offer in terms of pre-made modules. For instance, we're going to want to use random numbers in a later example. So let's learn how to import the 'random' module. In this case, I know that there's a module called `random` that allows a user to generate and use random numbers in their code. If we tell python `import random`, it will give us access to all the functions that someone else has programmed into the `random module` to generate the random numbers. Once imported, if we want to use one of `random`'s functions, we have to tell python \"check random for this function\" which we do by saying `random.FUNCTION_NAME()`.\n",
    "\n",
    "And, of course, you can find [documentation](https://docs.python.org/3/library/random.html) for the random library."
   ]
  },
  {
   "cell_type": "code",
   "execution_count": null,
   "metadata": {
    "ExecuteTime": {
     "end_time": "2018-02-03T05:10:58.681900Z",
     "start_time": "2018-02-03T05:10:58.648929Z"
    },
    "run_control": {
     "frozen": false,
     "read_only": false
    }
   },
   "outputs": [],
   "source": [
    "import random\n",
    "random.randint(0,10)"
   ]
  },
  {
   "cell_type": "markdown",
   "metadata": {
    "run_control": {
     "frozen": false,
     "read_only": false
    }
   },
   "source": [
    "Importing it also makes `random` accessible in other cells... as long this instance of the python notebook is open, once we import we can use `random` in any other cells. We don't have to re-import it every time."
   ]
  },
  {
   "cell_type": "code",
   "execution_count": null,
   "metadata": {
    "ExecuteTime": {
     "end_time": "2018-02-03T04:28:10.029953Z",
     "start_time": "2018-02-03T04:28:10.024871Z"
    },
    "run_control": {
     "frozen": false,
     "read_only": false
    }
   },
   "outputs": [],
   "source": [
    "for _ in range(4):\n",
    "    print(random.randint(2,10))"
   ]
  },
  {
   "cell_type": "markdown",
   "metadata": {
    "run_control": {
     "frozen": false,
     "read_only": false
    }
   },
   "source": [
    "**Exercise 8:**\n",
    "\n",
    "> Generate 500 random integers between 0-10, store them in a list, compute the average value of the random integers. Is it the value you expect? Run it a few times, does it change? What happens if you make it 5000 random numbers?"
   ]
  },
  {
   "cell_type": "code",
   "execution_count": null,
   "metadata": {},
   "outputs": [],
   "source": []
  },
  {
   "cell_type": "markdown",
   "metadata": {
    "run_control": {
     "frozen": false,
     "read_only": false
    }
   },
   "source": [
    "We also are going to want to use a library called `numpy` which is an excellent library for mathematical manipulations. It's VERY fast and has the ability to make slightly more efficient lists (called arrays) and to do more complex mathematical things with those arrays. We can also give `numpy` a special name so we don't always have to type `numpy`."
   ]
  },
  {
   "cell_type": "code",
   "execution_count": null,
   "metadata": {
    "ExecuteTime": {
     "end_time": "2018-02-03T04:28:17.168842Z",
     "start_time": "2018-02-03T04:28:16.621683Z"
    },
    "run_control": {
     "frozen": false,
     "read_only": false
    }
   },
   "outputs": [],
   "source": [
    "import numpy as np\n",
    "\n",
    "vector1 = np.array([1,2,3,4])\n",
    "vector2 = np.array([2,3,4,5])\n",
    "print(np.dot(vector1,vector2)) \n",
    "# This is the dot product. If you don't understand it, no worries.\n",
    "# It's just an example of the cool math numpy has built in."
   ]
  },
  {
   "cell_type": "markdown",
   "metadata": {
    "run_control": {
     "frozen": false,
     "read_only": false
    }
   },
   "source": [
    "Numpy is also **REALLY** handy for doing matrix math, since it knows all about matrices and even as a np.matrix() object. Numpy also has a random number generator as well. It's a really great library that really deserves its own lecture."
   ]
  },
  {
   "cell_type": "markdown",
   "metadata": {
    "run_control": {
     "frozen": false,
     "read_only": false
    }
   },
   "source": [
    "# Plotting - now we're getting somewhere cool"
   ]
  },
  {
   "cell_type": "markdown",
   "metadata": {
    "run_control": {
     "frozen": false,
     "read_only": false
    }
   },
   "source": [
    "One of the main Python libraries used for scientific computing is `matplotlib` which is a module designed around making plotting super easy. Let's look through some simple examples to whet your appetite."
   ]
  },
  {
   "cell_type": "code",
   "execution_count": null,
   "metadata": {
    "ExecuteTime": {
     "end_time": "2018-02-03T04:28:48.601379Z",
     "start_time": "2018-02-03T04:28:47.972731Z"
    },
    "run_control": {
     "frozen": false,
     "read_only": false
    }
   },
   "outputs": [],
   "source": [
    "import matplotlib.pyplot as plt # this is a standard convention when using matplotlib, we name it plt.\n",
    "%matplotlib inline \n",
    "# This is a special command only used in Jupyter Notebooks, it allows plt to draw in the notebook"
   ]
  },
  {
   "cell_type": "code",
   "execution_count": null,
   "metadata": {
    "ExecuteTime": {
     "end_time": "2018-02-03T04:28:49.604710Z",
     "start_time": "2018-02-03T04:28:49.229306Z"
    },
    "run_control": {
     "frozen": false,
     "read_only": false
    }
   },
   "outputs": [],
   "source": [
    "x = range(50) # this makes a list from 0-49\n",
    "y = []\n",
    "\n",
    "for value in x:\n",
    "    y.append(value**2) # This makes a list of x^2 in the SAME order as the x list.\n",
    "\n",
    "plt.plot(x,y); # this reads the two lists and grabs element 0 from x and y, then draws it. Then element 1, then ele...\n",
    "plt.xlabel(\"X\"); # LABEL OR DIE\n",
    "plt.ylabel(\"X-squared\");\n",
    "plt.title(\"Just a demo plot, yo\");"
   ]
  },
  {
   "cell_type": "markdown",
   "metadata": {
    "run_control": {
     "frozen": false,
     "read_only": false
    }
   },
   "source": [
    "Now let's make a scatter plot! And this time, let's do it with a random number generator and a function."
   ]
  },
  {
   "cell_type": "code",
   "execution_count": null,
   "metadata": {
    "ExecuteTime": {
     "end_time": "2018-02-03T04:28:57.348903Z",
     "start_time": "2018-02-03T04:28:56.966480Z"
    },
    "run_control": {
     "frozen": false,
     "read_only": false
    }
   },
   "outputs": [],
   "source": [
    "def get_data_point():\n",
    "    value1 = random.randint(-10,10)\n",
    "    value2 = random.randint(-10,10)\n",
    "    return value1, value2 # Yep, Python can return more than one thing from a function. Check below to see how to handle it\n",
    "\n",
    "x_values = []\n",
    "y_values = []\n",
    "for i in range(250):\n",
    "    x, y = get_data_point() # we have to put two things left of equals, since it returns two things.\n",
    "    x_values.append(x)\n",
    "    y_values.append(y)\n",
    "\n",
    "plt.scatter(x_values,y_values,c='red',alpha=0.33);"
   ]
  },
  {
   "cell_type": "markdown",
   "metadata": {
    "run_control": {
     "frozen": false,
     "read_only": false
    }
   },
   "source": [
    "BOOM. We also changed the color of the points by telling it to have \"c='red'\" There are hundreds of plotting options in MatPlotLib... but we'll stop there for now and jump to the crowning achievement for today. Calculating Pi using random numbers."
   ]
  },
  {
   "cell_type": "markdown",
   "metadata": {
    "run_control": {
     "frozen": false,
     "read_only": false
    }
   },
   "source": [
    "# Let's SIMULATE some stuff"
   ]
  },
  {
   "cell_type": "markdown",
   "metadata": {
    "run_control": {
     "frozen": false,
     "read_only": false
    }
   },
   "source": [
    "Okay, we need some math background for this. We're going to try to calculate pi using random numbers. How can that work? Well, the idea is that we're use the areas of the circle and square to get this. The area of a circle is A_circle = Pi x radius^2. For a square, the area is A_square = length x width.\n",
    "\n",
    "So if we have the radius be 1, and the length of the squares side be 2, we can have a circle set in a square, like shown below."
   ]
  },
  {
   "cell_type": "code",
   "execution_count": null,
   "metadata": {
    "ExecuteTime": {
     "end_time": "2018-02-03T04:29:19.057312Z",
     "start_time": "2018-02-03T04:29:18.619355Z"
    },
    "run_control": {
     "frozen": false,
     "read_only": false
    }
   },
   "outputs": [],
   "source": [
    "def draw_circle_square():\n",
    "    x_square = [-1,1,1,-1,-1]\n",
    "    y_square = [1,1,-1,-1,1]\n",
    "    plt.plot(x_square,y_square)\n",
    "\n",
    "    x_circle = np.linspace(1,-1,100)\n",
    "    y_circle = []\n",
    "    y_circle_negative = []\n",
    "    \n",
    "    for x in x_circle:\n",
    "        y_circle.append(np.sqrt(1-x**2))\n",
    "        y_circle_negative.append(-np.sqrt(1-x**2))\n",
    "\n",
    "    plt.plot(x_circle,y_circle,c='r')\n",
    "    plt.plot(x_circle,y_circle_negative,c='r')\n",
    "\n",
    "    plt.axes().set_aspect('equal') # This is just to square up the plot instead of being a rectangle\n",
    "\n",
    "draw_circle_square()"
   ]
  },
  {
   "cell_type": "markdown",
   "metadata": {
    "run_control": {
     "frozen": false,
     "read_only": false
    }
   },
   "source": [
    "So, if we generate data points and keep track of how many fall inside the circle AND the square, versus just the square, we can get an estimate of their areas. If we then do the area of the circle, divided by the area of the square, we expect it to be:\n",
    "\n",
    "$\\frac{\\pi*1*1}{2*2} = \\frac{\\pi}{4}$\n",
    "\n",
    "We can do this with just a few functions and some of the knowledge we've already gained from today. So, give it a shot. I'll slowly reveal parts of the answer along the way.\n",
    "\n",
    "A hint: You'll need to calculate some distances. The distance from a point to the center of the square/circle is:\n",
    "\n",
    "d = $\\sqrt{x^{2} + y^{2}}$\n"
   ]
  },
  {
   "cell_type": "code",
   "execution_count": null,
   "metadata": {
    "ExecuteTime": {
     "end_time": "2018-02-03T04:29:23.911961Z",
     "start_time": "2018-02-03T04:29:23.508363Z"
    },
    "run_control": {
     "frozen": false,
     "read_only": false
    }
   },
   "outputs": [],
   "source": [
    "draw_circle_square()\n",
    "example_points_x = [-0.1,0.5,0.75,-.9]\n",
    "example_points_y = [-0.5,0.6,0.8,-0.55]\n",
    "colors = ['r','r','b','b']\n",
    "plt.scatter(example_points_x,example_points_y,c=colors);"
   ]
  },
  {
   "cell_type": "markdown",
   "metadata": {
    "run_control": {
     "frozen": false,
     "read_only": false
    }
   },
   "source": [
    "### Solution without numpy"
   ]
  },
  {
   "cell_type": "code",
   "execution_count": null,
   "metadata": {
    "ExecuteTime": {
     "end_time": "2018-02-03T04:29:24.167941Z",
     "start_time": "2018-02-03T04:29:23.917514Z"
    },
    "run_control": {
     "frozen": false,
     "read_only": false
    }
   },
   "outputs": [],
   "source": [
    "import random\n",
    "def get_data_point():\n",
    "    '''\n",
    "    We're going to generate a value between 0 and 1. We can multiply by 2 and subtract 1 to \n",
    "    get a random number in the range of [-1,1]\n",
    "    '''\n",
    "    x = random.random()*2.-1.\n",
    "    y = random.random()*2.-1.\n",
    "    return [x,y]\n",
    "\n",
    "def get_distance(data_point):\n",
    "    '''\n",
    "    Here we just unpack our data point to x and y coordinates\n",
    "    then calculate the Euclidean distance\n",
    "    '''\n",
    "    x,y = data_point\n",
    "    return np.sqrt(x*x + y*y)\n",
    "\n",
    "def is_in_circle(data_point):\n",
    "    '''\n",
    "    This function takes our data point, finds the distance to the center of the\n",
    "    circle, an checks if it is less than the circle's radius (1). If it is, \n",
    "    it returns true (the point is in the circle), if not, it returns false.\n",
    "    '''\n",
    "    dist = get_distance(data_point)\n",
    "    return dist <= 1.\n",
    "\n",
    "def calculate_pi(num_data_points):\n",
    "    '''\n",
    "    For the number of data points requested (how many random draws to do), generate a data\n",
    "    point and check if it's in the circle, as well as the square. Keep track of how many are\n",
    "    in the circle, then return (circle/square)*4 to estimate pi.\n",
    "    '''\n",
    "    data = []\n",
    "    points_in_circle = 0\n",
    "    for i in range(int(num_data_points)):\n",
    "        data = get_data_point()\n",
    "        if is_in_circle(data):\n",
    "            points_in_circle += 1\n",
    "    return (points_in_circle/num_data_points)*4\n",
    "\n",
    "print(calculate_pi(10**4))"
   ]
  },
  {
   "cell_type": "markdown",
   "metadata": {
    "run_control": {
     "frozen": false,
     "read_only": false
    }
   },
   "source": [
    "Now let's plot the value we calculate for Pi for a bunch of different number of points to see how it goes."
   ]
  },
  {
   "cell_type": "code",
   "execution_count": null,
   "metadata": {
    "ExecuteTime": {
     "end_time": "2018-02-03T04:29:45.949935Z",
     "start_time": "2018-02-03T04:29:24.204285Z"
    },
    "run_control": {
     "frozen": false,
     "read_only": false
    }
   },
   "outputs": [],
   "source": [
    "# this just gives us 1000 evenly spaced points between 100 and 10000\n",
    "num_points_to_try = np.linspace(100,10000,1000) \n",
    "\n",
    "pi_vals = []\n",
    "for num_points in num_points_to_try:\n",
    "    pi_vals.append(calculate_pi(num_points))\n",
    "\n",
    "plt.plot(num_points_to_try,pi_vals);\n",
    "plt.xlabel(\"Number of Points Sampled\");\n",
    "plt.ylabel(\"Guessed Value of Pi\");\n",
    "plt.title(\"Estimating Pi with Random Numbers\");"
   ]
  },
  {
   "cell_type": "code",
   "execution_count": null,
   "metadata": {
    "ExecuteTime": {
     "end_time": "2018-02-03T04:33:15.126071Z",
     "start_time": "2018-02-03T04:33:14.649957Z"
    },
    "run_control": {
     "frozen": false,
     "read_only": false
    }
   },
   "outputs": [],
   "source": [
    "errors = [estimate - 3.14159265 for estimate in pi_vals]\n",
    "\n",
    "plt.plot(num_points_to_try,errors)\n",
    "plt.xlabel(\"Number of Points Sampled\")\n",
    "plt.ylabel(\"Error on estimate\")\n",
    "plt.title(\"Estimating Pi with Random Numbers\")\n",
    "plt.plot([-10,10100],[0,0],'--r',lw=2); # just adding a line to show where 0 is."
   ]
  },
  {
   "cell_type": "markdown",
   "metadata": {
    "run_control": {
     "frozen": false,
     "read_only": false
    }
   },
   "source": [
    "### And now with numpy"
   ]
  },
  {
   "cell_type": "code",
   "execution_count": null,
   "metadata": {
    "ExecuteTime": {
     "end_time": "2018-02-03T04:44:00.975818Z",
     "start_time": "2018-02-03T04:44:00.167166Z"
    },
    "run_control": {
     "frozen": false,
     "read_only": false
    }
   },
   "outputs": [],
   "source": [
    "import numpy as np\n",
    "\n",
    "def calculate_pi_numpy(num_data_points):\n",
    "    data_0_1 = np.random.rand(int(num_data_points),2) # creates num_data_points 2D points\n",
    "    data_n1_1 = data_0_1*2-1 # scales points to [-1,1]\n",
    "    \n",
    "    squared_points = data_n1_1**2\n",
    "    sum_sqaured = np.sum(squared_points, axis=1)\n",
    "    dist = np.sqrt(sum_sqaured)\n",
    "    \n",
    "    num_in_circle = 0\n",
    "    for point_dist in dist:\n",
    "        if point_dist <= 1: # numpy has a really fast way to calculate the hypotenuse\n",
    "            num_in_circle += 1\n",
    "    return (num_in_circle/num_data_points)*4\n",
    "\n",
    "calculate_pi_numpy(1000000)"
   ]
  },
  {
   "cell_type": "code",
   "execution_count": null,
   "metadata": {
    "ExecuteTime": {
     "end_time": "2018-02-03T04:44:32.898815Z",
     "start_time": "2018-02-03T04:44:32.755645Z"
    }
   },
   "outputs": [],
   "source": [
    "def calculate_pi_numpy(num_data_points):\n",
    "    data_0_1 = np.random.rand(int(num_data_points),2) # creates num_data_points 2D points\n",
    "    data_n1_1 = data_0_1*2-1 # scales points to [-1,1]\n",
    "    \n",
    "    squared_points = data_n1_1**2\n",
    "    sum_sqaured = np.sum(squared_points, axis=1)\n",
    "    dist = np.sqrt(sum_sqaured)\n",
    "    in_circle = dist <=1\n",
    "    num_in_circle = np.sum(in_circle)\n",
    "    \n",
    "    return (num_in_circle/num_data_points)*4\n",
    "\n",
    "calculate_pi_numpy(1000000)"
   ]
  },
  {
   "cell_type": "code",
   "execution_count": null,
   "metadata": {
    "ExecuteTime": {
     "end_time": "2018-02-03T04:46:35.825039Z",
     "start_time": "2018-02-03T04:46:28.256799Z"
    },
    "run_control": {
     "frozen": false,
     "read_only": false
    }
   },
   "outputs": [],
   "source": [
    "num_points_to_try = np.linspace(100,100000,1000)  # this just gives us 1000 points between 1 and 10000\n",
    "pi_vals = []\n",
    "\n",
    "for num_points in num_points_to_try:\n",
    "    pi_vals.append(calculate_pi_numpy(num_points))\n",
    "\n",
    "plt.plot(num_points_to_try,pi_vals,'r');\n",
    "plt.xlabel(\"Number of Points Sampled\");\n",
    "plt.ylabel(\"Guessed Value of Pi\");\n",
    "plt.title(\"Estimating Pi with Random Numbers\");"
   ]
  },
  {
   "cell_type": "markdown",
   "metadata": {
    "run_control": {
     "frozen": false,
     "read_only": false
    }
   },
   "source": [
    "### Sidenote: Why does this work? \n",
    "\n",
    "Because with enough points, we actually can fill in the circle and square. So we are literally learning about the areas by randomness. This is known as a Monte Carlo technique (not important to know, but you might want to read more later). Check it out."
   ]
  },
  {
   "cell_type": "code",
   "execution_count": null,
   "metadata": {
    "ExecuteTime": {
     "end_time": "2018-02-03T04:48:02.393828Z",
     "start_time": "2018-02-03T04:48:01.324083Z"
    },
    "run_control": {
     "frozen": false,
     "read_only": false
    }
   },
   "outputs": [],
   "source": [
    "draw_circle_square()\n",
    "\n",
    "x_vals = []\n",
    "y_vals = []\n",
    "colors = []\n",
    "for i in range(3000):\n",
    "    data = get_data_point()\n",
    "    \n",
    "    x_vals.append(data[0])\n",
    "    y_vals.append(data[1])\n",
    "    if is_in_circle(data):\n",
    "        colors.append('r')\n",
    "    else:\n",
    "        colors.append('b')\n",
    "plt.scatter(x_vals,y_vals,c=colors,alpha=0.5,s=14);\n",
    "plt.xlabel(\"X\");\n",
    "plt.ylabel(\"Y\");"
   ]
  },
  {
   "cell_type": "markdown",
   "metadata": {
    "run_control": {
     "frozen": false,
     "read_only": false
    }
   },
   "source": [
    "# Bonus Stuff: Classes"
   ]
  },
  {
   "cell_type": "markdown",
   "metadata": {
    "run_control": {
     "frozen": false,
     "read_only": false
    }
   },
   "source": [
    "Classes are amazing, somewhat complicated, and an unavoidable part of learning Python. They let us do a ton of really cool things. We're not going to get into too much detail today, but let me demonstrate. "
   ]
  },
  {
   "cell_type": "code",
   "execution_count": null,
   "metadata": {
    "ExecuteTime": {
     "end_time": "2018-02-03T04:48:12.620170Z",
     "start_time": "2018-02-03T04:48:12.608490Z"
    },
    "run_control": {
     "frozen": false,
     "read_only": false
    }
   },
   "outputs": [],
   "source": [
    "class Dog:\n",
    "    \n",
    "    # Method that is run upon initiation\n",
    "    def __init__(self, name):\n",
    "        self.name = name\n",
    "        \n",
    "    # Method that is run on demand\n",
    "    def bark(self):\n",
    "        print(\"{} says woof-woof\".format(self.name))"
   ]
  },
  {
   "cell_type": "code",
   "execution_count": null,
   "metadata": {
    "ExecuteTime": {
     "end_time": "2018-02-03T04:48:13.463149Z",
     "start_time": "2018-02-03T04:48:13.455357Z"
    }
   },
   "outputs": [],
   "source": [
    "d = Dog(\"Spot\") \n",
    "d.bark()"
   ]
  },
  {
   "cell_type": "code",
   "execution_count": null,
   "metadata": {
    "ExecuteTime": {
     "end_time": "2018-02-03T04:48:14.334501Z",
     "start_time": "2018-02-03T04:48:14.327453Z"
    }
   },
   "outputs": [],
   "source": [
    "d2 = Dog(\"Alejandro\")\n",
    "d2.bark()"
   ]
  },
  {
   "cell_type": "code",
   "execution_count": null,
   "metadata": {
    "ExecuteTime": {
     "end_time": "2018-02-03T04:48:15.315138Z",
     "start_time": "2018-02-03T04:48:15.280636Z"
    },
    "run_control": {
     "frozen": false,
     "read_only": false
    }
   },
   "outputs": [],
   "source": [
    "class Cat:\n",
    "    \n",
    "    def __init__(self,name):\n",
    "        self.name = name\n",
    "        self.lives = 9\n",
    "        self.alive = True\n",
    "    \n",
    "    def lose_life(self):\n",
    "        self.lives -=1\n",
    "        if self.lives <= 0:\n",
    "            self.alive = False\n",
    "    \n",
    "    def how_many_lives(self):\n",
    "        if self.alive:\n",
    "            print(\"%s has %s lives left.\"%(self.name,self.lives))\n",
    "        else:\n",
    "            print(\"%s has used all lives. :sad:\"%self.name)"
   ]
  },
  {
   "cell_type": "code",
   "execution_count": null,
   "metadata": {
    "ExecuteTime": {
     "end_time": "2018-02-03T04:48:16.515079Z",
     "start_time": "2018-02-03T04:48:16.499221Z"
    },
    "run_control": {
     "frozen": false,
     "read_only": false
    }
   },
   "outputs": [],
   "source": [
    "mika = Cat('Mika')\n",
    "steve = Cat('Steve')\n",
    "\n",
    "steve.how_many_lives()\n",
    "print(steve.lives)\n",
    "steve.lose_life()\n",
    "\n",
    "mika.how_many_lives()\n",
    "steve.how_many_lives()"
   ]
  },
  {
   "cell_type": "code",
   "execution_count": null,
   "metadata": {
    "ExecuteTime": {
     "end_time": "2018-02-03T04:48:17.443756Z",
     "start_time": "2018-02-03T04:48:17.432345Z"
    },
    "run_control": {
     "frozen": false,
     "read_only": false
    }
   },
   "outputs": [],
   "source": [
    "while steve.alive:\n",
    "    steve.lose_life()\n",
    "    steve.how_many_lives()\n",
    "    \n",
    "mika.how_many_lives()"
   ]
  },
  {
   "cell_type": "markdown",
   "metadata": {
    "run_control": {
     "frozen": false,
     "read_only": false
    }
   },
   "source": [
    "**Exercise 9:**\n",
    "\n",
    "> Write a class for \"person\" that stores a person's age, hair color, and eye color. In that class, add a function that allows you to change the hair color."
   ]
  },
  {
   "cell_type": "code",
   "execution_count": null,
   "metadata": {
    "run_control": {
     "frozen": false,
     "read_only": false
    }
   },
   "outputs": [],
   "source": []
  },
  {
   "cell_type": "markdown",
   "metadata": {
    "run_control": {
     "frozen": false,
     "read_only": false
    }
   },
   "source": [
    "# Where to go from here?"
   ]
  },
  {
   "cell_type": "markdown",
   "metadata": {
    "run_control": {
     "frozen": false,
     "read_only": false
    }
   },
   "source": [
    "This has been a whirlwind of information that I hope has been useful. It's just the tip of the iceberg. Here are some other great resources:\n",
    "\n",
    "* https://learnpythonthehardway.org/ (this costs money)\n",
    "* http://codingbat.com/python (Lot's of simple test problems to play with)\n",
    "* http://learnpython.org/ (Excellent interactive 'course')\n",
    "* https://py.checkio.org/ (A series of Python tasks in a game framework; I've never played it but know people who have and learned a ton. Requires Log-in.)\n",
    "\n",
    "At the end of the day, finding cool ideas and trying to code them up is the best place to go. Fight with your code, love your code, passionately defend your code. It's all part of the fun. Take a look around and see what other people are doing and see if you can do it (better). GitHub is a great resource for finding cool projects and great coding examples. At the risk of self-promotion, let's say you want to learn how to work with microphones... you can look at my github for an example here: https://github.com/ZWMiller/PythonProjects/blob/master/streamAudio/streamAudio.py That code will never win an award, but if you were trying to figure out how to begin working with microphones in Python, it's a great place to start. There are tons of people doing _WAY_ cooler things than I am, so find them on GitHub, look at their code, figure out what they're doing... it's a great resource.\n",
    "\n",
    "** Best of luck. Feel free to ping me with questions! **"
   ]
  },
  {
   "cell_type": "markdown",
   "metadata": {
    "run_control": {
     "frozen": false,
     "read_only": false
    }
   },
   "source": [
    "# Solutions!"
   ]
  },
  {
   "cell_type": "markdown",
   "metadata": {
    "run_control": {
     "frozen": false,
     "read_only": false
    }
   },
   "source": [
    "**Exercise 1:**"
   ]
  },
  {
   "cell_type": "code",
   "execution_count": null,
   "metadata": {
    "run_control": {
     "frozen": false,
     "read_only": false
    }
   },
   "outputs": [],
   "source": [
    "hello_world_list = ['hello','world']\n",
    "print(hello_world_list)"
   ]
  },
  {
   "cell_type": "markdown",
   "metadata": {
    "run_control": {
     "frozen": false,
     "read_only": false
    }
   },
   "source": [
    "**Exercise 2: **"
   ]
  },
  {
   "cell_type": "code",
   "execution_count": null,
   "metadata": {
    "run_control": {
     "frozen": false,
     "read_only": false
    }
   },
   "outputs": [],
   "source": [
    "values = [1,2,3,4,5]\n",
    "sm = values[0]+values[1]+values[2]+values[3]+values[4]\n",
    "print(\"The Sum is: \",sm)"
   ]
  },
  {
   "cell_type": "markdown",
   "metadata": {
    "run_control": {
     "frozen": false,
     "read_only": false
    }
   },
   "source": [
    "**Exercise 3: **"
   ]
  },
  {
   "cell_type": "code",
   "execution_count": null,
   "metadata": {
    "run_control": {
     "frozen": false,
     "read_only": false
    }
   },
   "outputs": [],
   "source": [
    "values = [1,2,3,4,5]\n",
    "sm = 0\n",
    "sm2 = 0\n",
    "for val in values:\n",
    "    sm = sm + val\n",
    "    sm2 += val # Note, these are completely equivalent! += just means, add it to the current value on the left side.\n",
    "print(sm)\n",
    "print(sm2)"
   ]
  },
  {
   "cell_type": "markdown",
   "metadata": {
    "run_control": {
     "frozen": false,
     "read_only": false
    }
   },
   "source": [
    "**Exercise 4: **"
   ]
  },
  {
   "cell_type": "code",
   "execution_count": null,
   "metadata": {
    "run_control": {
     "frozen": false,
     "read_only": false
    }
   },
   "outputs": [],
   "source": [
    "li = [1,4,4,8,9,3,2,7,5,5,5,5,5]\n",
    "s = set(li)\n",
    "tup = tuple(s)\n",
    "print(tup)"
   ]
  },
  {
   "cell_type": "markdown",
   "metadata": {
    "run_control": {
     "frozen": false,
     "read_only": false
    }
   },
   "source": [
    "**Exercise 5: **"
   ]
  },
  {
   "cell_type": "code",
   "execution_count": null,
   "metadata": {
    "run_control": {
     "frozen": false,
     "read_only": false
    }
   },
   "outputs": [],
   "source": [
    "li = [1,2,3,4,5,6,7,8,9,0,1,2,3,4,5,6,7,8,9]\n",
    "last_three = li[-3:]\n",
    "print(last_three)\n",
    "\n",
    "first_nine = li[:9]\n",
    "print(first_nine)\n",
    "\n",
    "middle = li[7:10]\n",
    "print(middle)"
   ]
  },
  {
   "cell_type": "markdown",
   "metadata": {
    "run_control": {
     "frozen": false,
     "read_only": false
    }
   },
   "source": [
    "**Exercise 6:**"
   ]
  },
  {
   "cell_type": "code",
   "execution_count": null,
   "metadata": {
    "run_control": {
     "frozen": false,
     "read_only": false
    }
   },
   "outputs": [],
   "source": [
    "def cube_plus_seven(x):\n",
    "    return x**3+7\n",
    "\n",
    "print(cube_plus_seven(2))"
   ]
  },
  {
   "cell_type": "markdown",
   "metadata": {
    "run_control": {
     "frozen": false,
     "read_only": false
    }
   },
   "source": [
    "**Exercise 7:**"
   ]
  },
  {
   "cell_type": "code",
   "execution_count": null,
   "metadata": {
    "run_control": {
     "frozen": false,
     "read_only": false
    }
   },
   "outputs": [],
   "source": [
    "def sum_of_list(li):\n",
    "    sm = 0\n",
    "    for el in li:\n",
    "        sm+=el\n",
    "    return sm\n",
    "\n",
    "print(sum_of_list([1,2,3,4,5]))"
   ]
  },
  {
   "cell_type": "markdown",
   "metadata": {
    "run_control": {
     "frozen": false,
     "read_only": false
    }
   },
   "source": [
    "**Exercise 8:**"
   ]
  },
  {
   "cell_type": "code",
   "execution_count": null,
   "metadata": {
    "run_control": {
     "frozen": false,
     "read_only": false
    }
   },
   "outputs": [],
   "source": [
    "def get_random_number():\n",
    "    return random.randint(0,10)\n",
    "\n",
    "def sum_of_list(li):\n",
    "    sm = 0\n",
    "    for el in li:\n",
    "        sm+=el\n",
    "    return sm\n",
    "\n",
    "numbers = []\n",
    "for i in range(5000):\n",
    "    numbers.append(get_random_number())\n",
    "\n",
    "avg = sum_of_list(numbers)/len(numbers)\n",
    "print(avg)"
   ]
  },
  {
   "cell_type": "markdown",
   "metadata": {
    "collapsed": true,
    "run_control": {
     "frozen": false,
     "read_only": false
    }
   },
   "source": [
    "**Exercise 9:**"
   ]
  },
  {
   "cell_type": "code",
   "execution_count": null,
   "metadata": {
    "run_control": {
     "frozen": false,
     "read_only": false
    }
   },
   "outputs": [],
   "source": [
    "class person:\n",
    "    def __init__(self,age,hair,eyes):\n",
    "        self.age = age\n",
    "        self.hair = hair\n",
    "        self.eyes = eyes\n",
    "    \n",
    "    def change_hair(self,new_hair):\n",
    "        self.hair = new_hair\n",
    "\n",
    "zach = person(29,'red','blue')\n",
    "zach.change_hair('brown')\n",
    "print(zach.hair)"
   ]
  },
  {
   "cell_type": "code",
   "execution_count": null,
   "metadata": {
    "run_control": {
     "frozen": false,
     "read_only": false
    }
   },
   "outputs": [],
   "source": []
  }
 ],
 "metadata": {
  "kernelspec": {
   "display_name": "Python 3",
   "language": "python",
   "name": "python3"
  },
  "language_info": {
   "codemirror_mode": {
    "name": "ipython",
    "version": 3
   },
   "file_extension": ".py",
   "mimetype": "text/x-python",
   "name": "python",
   "nbconvert_exporter": "python",
   "pygments_lexer": "ipython3",
   "version": "3.6.5"
  },
  "latex_envs": {
   "LaTeX_envs_menu_present": true,
   "bibliofile": "biblio.bib",
   "cite_by": "apalike",
   "current_citInitial": 1,
   "eqLabelWithNumbers": true,
   "eqNumInitial": 1,
   "hotkeys": {
    "equation": "Ctrl-E",
    "itemize": "Ctrl-I"
   },
   "labels_anchors": false,
   "latex_user_defs": false,
   "report_style_numbering": false,
   "user_envs_cfg": false
  },
  "toc": {
   "nav_menu": {
    "height": "354px",
    "width": "252px"
   },
   "number_sections": true,
   "sideBar": true,
   "skip_h1_title": false,
   "toc_cell": false,
   "toc_position": {},
   "toc_section_display": "block",
   "toc_window_display": false
  },
  "varInspector": {
   "cols": {
    "lenName": 16,
    "lenType": 16,
    "lenVar": 40
   },
   "kernels_config": {
    "python": {
     "delete_cmd_postfix": "",
     "delete_cmd_prefix": "del ",
     "library": "var_list.py",
     "varRefreshCmd": "print(var_dic_list())"
    },
    "r": {
     "delete_cmd_postfix": ") ",
     "delete_cmd_prefix": "rm(",
     "library": "var_list.r",
     "varRefreshCmd": "cat(var_dic_list()) "
    }
   },
   "types_to_exclude": [
    "module",
    "function",
    "builtin_function_or_method",
    "instance",
    "_Feature"
   ],
   "window_display": false
  }
 },
 "nbformat": 4,
 "nbformat_minor": 2
}
